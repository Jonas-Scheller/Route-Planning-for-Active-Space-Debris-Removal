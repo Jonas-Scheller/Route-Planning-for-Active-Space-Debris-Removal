{
 "cells": [
  {
   "cell_type": "markdown",
   "metadata": {},
   "source": [
    "# Sample Experiments"
   ]
  },
  {
   "cell_type": "markdown",
   "metadata": {},
   "source": [
    "In this notebook, we will explore simple ways for conducting experiments with the different instances. First we will download some debris datasets. Note that you can choose any data from https://celestrak.com/NORAD/elements/ or the full TLE set https://www.space-track.org/"
   ]
  },
  {
   "cell_type": "code",
   "execution_count": 1,
   "metadata": {},
   "outputs": [],
   "source": [
    "import urllib.request\n",
    "import os\n",
    "\n",
    "def download(url, file_name):\n",
    "    if not os.path.exists(file_name):\n",
    "        print(\"downloading data from \" + str(url))\n",
    "        with open(file_name, \"wb\") as file:\n",
    "            response = urllib.request.urlopen(url)\n",
    "            file.write(response.read())\n",
    "    \n",
    "PATH_TO_SATCAT = \"data/satcat.txt\"\n",
    "PATH_TO_IRIDIUM_TLE = \"data/iridium-33-debris.txt\"\n",
    "PATH_TO_COSMOS_TLE = \"data/cosmos-2251-debris.txt\"\n",
    "PATH_TO_FEN_TLE = \"data/fen-debris.txt\"\n",
    "ALL_PATHS_TLE = [PATH_TO_IRIDIUM_TLE, PATH_TO_IRIDIUM_TLE, PATH_TO_FEN_TLE]\n",
    "\n",
    "if not os.path.exists(\"data\"):\n",
    "    print(\"Creating data folder\")\n",
    "    os.makedirs(\"data\")\n",
    "    \n",
    "download(\"https://celestrak.com/pub/satcat.txt\", PATH_TO_SATCAT)\n",
    "download(\"https://celestrak.com/NORAD/elements/iridium-33-debris.txt\", PATH_TO_IRIDIUM_TLE)\n",
    "download(\"https://celestrak.com/NORAD/elements/cosmos-2251-debris.txt\", PATH_TO_COSMOS_TLE)\n",
    "download(\"https://celestrak.com/NORAD/elements/1999-025.txt\", PATH_TO_FEN_TLE)"
   ]
  },
  {
   "cell_type": "markdown",
   "metadata": {},
   "source": [
    "# Experiment 1: Find optimal solutions for static TSP"
   ]
  },
  {
   "cell_type": "markdown",
   "metadata": {},
   "source": [
    "Assuming the traveling costs do not change over time, we can compute solutions for the three datasets with a fixed number of debris objects in the instances"
   ]
  },
  {
   "cell_type": "code",
   "execution_count": 2,
   "metadata": {},
   "outputs": [],
   "source": [
    "from preprocessing import data_processing\n",
    "from optimization import mips_static"
   ]
  },
  {
   "cell_type": "code",
   "execution_count": 3,
   "metadata": {},
   "outputs": [
    {
     "name": "stdout",
     "output_type": "stream",
     "text": [
      "Conducting experiment for iridium-33-debris\n",
      "Preprocessing indices for three impulse approximation\n"
     ]
    },
    {
     "data": {
      "application/vnd.jupyter.widget-view+json": {
       "model_id": "e2400c7a44e6436bb6fcb7cea5a9e997",
       "version_major": 2,
       "version_minor": 0
      },
      "text/plain": [
       "HBox(children=(IntProgress(value=0, max=304), HTML(value='')))"
      ]
     },
     "metadata": {},
     "output_type": "display_data"
    },
    {
     "name": "stdout",
     "output_type": "stream",
     "text": [
      "\n",
      "Computing cost approximations for static TSP\n"
     ]
    },
    {
     "data": {
      "application/vnd.jupyter.widget-view+json": {
       "model_id": "1d3b4518e8374df7893ce4329b010dc3",
       "version_major": 2,
       "version_minor": 0
      },
      "text/plain": [
       "HBox(children=(IntProgress(value=0, max=279), HTML(value='')))"
      ]
     },
     "metadata": {},
     "output_type": "display_data"
    },
    {
     "name": "stdout",
     "output_type": "stream",
     "text": [
      "\n",
      "Academic license - for non-commercial use only\n",
      "Optimize a model with 2704 rows, 5151 columns and 17903 nonzeros\n",
      "Variable types: 2550 continuous, 2601 integer (2601 binary)\n",
      "Coefficient statistics:\n",
      "  Matrix range     [1e+00, 1e+04]\n",
      "  Objective range  [5e-02, 3e+00]\n",
      "  Bounds range     [1e+00, 1e+00]\n",
      "  RHS range        [1e+00, 1e+03]\n",
      "Presolve removed 2185 rows and 4317 columns\n",
      "Presolve time: 0.03s\n",
      "Presolved: 519 rows, 834 columns, 2956 nonzeros\n",
      "Variable types: 407 continuous, 427 integer (427 binary)\n",
      "Found heuristic solution: objective 0.0480000\n",
      "\n",
      "Root relaxation: objective 6.792884e+00, 650 iterations, 0.01 seconds\n",
      "\n",
      "    Nodes    |    Current Node    |     Objective Bounds      |     Work\n",
      " Expl Unexpl |  Obj  Depth IntInf | Incumbent    BestBd   Gap | It/Node Time\n",
      "\n",
      "     0     0    6.79288    0   43    0.04800    6.79288      -     -    0s\n",
      "H    0     0                       0.1180000    6.79288  5657%     -    0s\n",
      "     0     0    6.73821    0   54    0.11800    6.73821  5610%     -    0s\n",
      "     0     0    6.73821    0   54    0.11800    6.73821  5610%     -    0s\n",
      "     0     2    6.73821    0   50    0.11800    6.73821  5610%     -    0s\n",
      "*    7     8               3       0.2190000    6.25680  2757%   138    0s\n",
      "H   18    14                       0.8987000    6.16437   586%  83.2    0s\n",
      "H   29    23                       1.1288000    6.16437   446%  70.2    0s\n",
      "*  602   229              50       4.0758000    5.98035  46.7%  30.1    0s\n",
      "* 1576   208              48       4.1292000    4.92253  19.2%  28.4    1s\n",
      "\n",
      "Cutting planes:\n",
      "  Gomory: 8\n",
      "  Cover: 47\n",
      "  Implied bound: 55\n",
      "  MIR: 21\n",
      "  Flow cover: 20\n",
      "  Inf proof: 15\n",
      "  Network: 6\n",
      "\n",
      "Explored 4538 nodes (88988 simplex iterations) in 2.12 seconds\n",
      "Thread count was 8 (of 8 available processors)\n",
      "\n",
      "Solution count 7: 4.1292 4.0758 1.1288 ... 0.048\n",
      "\n",
      "Optimal solution found (tolerance 1.00e-04)\n",
      "Best objective 4.129200000000e+00, best bound 4.129200000000e+00, gap 0.0000%\n",
      "\n",
      "\n",
      " ---- Resulting total radar cross section: 4.1292 m^2 ----\n",
      "\n",
      "\n",
      "Conducting experiment for iridium-33-debris\n",
      "Preprocessing indices for three impulse approximation\n"
     ]
    },
    {
     "data": {
      "application/vnd.jupyter.widget-view+json": {
       "model_id": "e216bcac34cf45e69c2c0dc04c158ddb",
       "version_major": 2,
       "version_minor": 0
      },
      "text/plain": [
       "HBox(children=(IntProgress(value=0, max=304), HTML(value='')))"
      ]
     },
     "metadata": {},
     "output_type": "display_data"
    },
    {
     "name": "stdout",
     "output_type": "stream",
     "text": [
      "\n",
      "Computing cost approximations for static TSP\n"
     ]
    },
    {
     "data": {
      "application/vnd.jupyter.widget-view+json": {
       "model_id": "a56a968fc4694b60b36c164da6a9a4b7",
       "version_major": 2,
       "version_minor": 0
      },
      "text/plain": [
       "HBox(children=(IntProgress(value=0, max=279), HTML(value='')))"
      ]
     },
     "metadata": {},
     "output_type": "display_data"
    },
    {
     "name": "stdout",
     "output_type": "stream",
     "text": [
      "\n",
      "Optimize a model with 2704 rows, 5151 columns and 17903 nonzeros\n",
      "Variable types: 2550 continuous, 2601 integer (2601 binary)\n",
      "Coefficient statistics:\n",
      "  Matrix range     [1e+00, 1e+04]\n",
      "  Objective range  [5e-02, 3e+00]\n",
      "  Bounds range     [1e+00, 1e+00]\n",
      "  RHS range        [1e+00, 1e+03]\n",
      "Presolve removed 2185 rows and 4317 columns\n",
      "Presolve time: 0.03s\n",
      "Presolved: 519 rows, 834 columns, 2956 nonzeros\n",
      "Variable types: 407 continuous, 427 integer (427 binary)\n",
      "Found heuristic solution: objective 0.0480000\n",
      "\n",
      "Root relaxation: objective 6.792884e+00, 650 iterations, 0.01 seconds\n",
      "\n",
      "    Nodes    |    Current Node    |     Objective Bounds      |     Work\n",
      " Expl Unexpl |  Obj  Depth IntInf | Incumbent    BestBd   Gap | It/Node Time\n",
      "\n",
      "     0     0    6.79288    0   43    0.04800    6.79288      -     -    0s\n",
      "H    0     0                       0.1180000    6.79288  5657%     -    0s\n",
      "     0     0    6.73821    0   54    0.11800    6.73821  5610%     -    0s\n",
      "     0     0    6.73821    0   54    0.11800    6.73821  5610%     -    0s\n",
      "     0     2    6.73821    0   50    0.11800    6.73821  5610%     -    0s\n",
      "*    7     8               3       0.2190000    6.25680  2757%   138    0s\n",
      "H   18    14                       0.8987000    6.16437   586%  83.2    0s\n",
      "H   29    23                       1.1288000    6.16437   446%  70.2    0s\n",
      "*  602   229              50       4.0758000    5.98035  46.7%  30.1    0s\n",
      "* 1576   208              48       4.1292000    4.92253  19.2%  28.4    1s\n",
      "\n",
      "Cutting planes:\n",
      "  Gomory: 8\n",
      "  Cover: 47\n",
      "  Implied bound: 55\n",
      "  MIR: 21\n",
      "  Flow cover: 20\n",
      "  Inf proof: 15\n",
      "  Network: 6\n",
      "\n",
      "Explored 4538 nodes (88988 simplex iterations) in 2.22 seconds\n",
      "Thread count was 8 (of 8 available processors)\n",
      "\n",
      "Solution count 7: 4.1292 4.0758 1.1288 ... 0.048\n",
      "\n",
      "Optimal solution found (tolerance 1.00e-04)\n",
      "Best objective 4.129200000000e+00, best bound 4.129200000000e+00, gap 0.0000%\n",
      "\n",
      "\n",
      " ---- Resulting total radar cross section: 4.1292 m^2 ----\n",
      "\n",
      "\n",
      "Conducting experiment for fen-debris\n",
      "Preprocessing indices for three impulse approximation\n"
     ]
    },
    {
     "data": {
      "application/vnd.jupyter.widget-view+json": {
       "model_id": "fffa0d04b0294a1a82a025d009747d28",
       "version_major": 2,
       "version_minor": 0
      },
      "text/plain": [
       "HBox(children=(IntProgress(value=0, max=2593), HTML(value='')))"
      ]
     },
     "metadata": {},
     "output_type": "display_data"
    },
    {
     "name": "stdout",
     "output_type": "stream",
     "text": [
      "\n",
      "Computing cost approximations for static TSP\n"
     ]
    },
    {
     "data": {
      "application/vnd.jupyter.widget-view+json": {
       "model_id": "9b847cecb17b45399596da2eb59aac91",
       "version_major": 2,
       "version_minor": 0
      },
      "text/plain": [
       "HBox(children=(IntProgress(value=0, max=2562), HTML(value='')))"
      ]
     },
     "metadata": {},
     "output_type": "display_data"
    },
    {
     "name": "stdout",
     "output_type": "stream",
     "text": [
      "\n",
      "Optimize a model with 2704 rows, 5151 columns and 17903 nonzeros\n",
      "Variable types: 2550 continuous, 2601 integer (2601 binary)\n",
      "Coefficient statistics:\n",
      "  Matrix range     [1e+00, 1e+04]\n",
      "  Objective range  [9e-02, 6e-01]\n",
      "  Bounds range     [1e+00, 1e+00]\n",
      "  RHS range        [1e+00, 1e+03]\n",
      "Found heuristic solution: objective 0.1820000\n",
      "Presolve removed 2466 rows and 4818 columns\n",
      "Presolve time: 0.02s\n",
      "Presolved: 238 rows, 333 columns, 1332 nonzeros\n",
      "Variable types: 170 continuous, 163 integer (163 binary)\n",
      "\n",
      "Root relaxation: objective 1.895448e+00, 116 iterations, 0.00 seconds\n",
      "\n",
      "    Nodes    |    Current Node    |     Objective Bounds      |     Work\n",
      " Expl Unexpl |  Obj  Depth IntInf | Incumbent    BestBd   Gap | It/Node Time\n",
      "\n",
      "     0     0    1.89545    0   10    0.18200    1.89545   941%     -    0s\n",
      "H    0     0                       0.2435000    1.89545   678%     -    0s\n",
      "H    0     0                       0.7230000    1.89502   162%     -    0s\n",
      "     0     0    1.88955    0   10    0.72300    1.88955   161%     -    0s\n",
      "     0     0    1.87103    0   16    0.72300    1.87103   159%     -    0s\n",
      "     0     0    1.60239    0   15    0.72300    1.60239   122%     -    0s\n",
      "H    0     0                       0.8873000    1.60239  80.6%     -    0s\n",
      "     0     0    1.59880    0   22    0.88730    1.59880  80.2%     -    0s\n",
      "     0     0    1.59041    0   23    0.88730    1.59041  79.2%     -    0s\n",
      "     0     0    1.58887    0   26    0.88730    1.58887  79.1%     -    0s\n",
      "     0     0    1.57303    0   26    0.88730    1.57303  77.3%     -    0s\n",
      "     0     0    1.51767    0   20    0.88730    1.51767  71.0%     -    0s\n",
      "     0     0    1.51736    0   19    0.88730    1.51736  71.0%     -    0s\n",
      "     0     0    1.51736    0   19    0.88730    1.51736  71.0%     -    0s\n",
      "     0     0    1.49002    0   13    0.88730    1.49002  67.9%     -    0s\n",
      "     0     0    1.47213    0   10    0.88730    1.47213  65.9%     -    0s\n",
      "     0     0    1.47182    0   14    0.88730    1.47182  65.9%     -    0s\n",
      "     0     0    1.47182    0   14    0.88730    1.47182  65.9%     -    0s\n",
      "     0     0    1.45826    0   30    0.88730    1.45826  64.3%     -    0s\n",
      "     0     0    1.45804    0   30    0.88730    1.45804  64.3%     -    0s\n",
      "     0     0    1.44208    0   31    0.88730    1.44208  62.5%     -    0s\n",
      "     0     0    1.44085    0   33    0.88730    1.44085  62.4%     -    0s\n",
      "     0     0    1.44069    0   34    0.88730    1.44069  62.4%     -    0s\n",
      "     0     0    1.42201    0   43    0.88730    1.42201  60.3%     -    0s\n",
      "     0     0    1.41881    0   32    0.88730    1.41881  59.9%     -    0s\n",
      "     0     0    1.41770    0   36    0.88730    1.41770  59.8%     -    0s\n",
      "     0     0    1.41630    0   28    0.88730    1.41630  59.6%     -    0s\n",
      "     0     0    1.41420    0   36    0.88730    1.41420  59.4%     -    0s\n",
      "     0     0    1.41410    0   48    0.88730    1.41410  59.4%     -    0s\n",
      "     0     0    1.40784    0   32    0.88730    1.40784  58.7%     -    0s\n",
      "     0     0    1.40494    0   38    0.88730    1.40494  58.3%     -    0s\n",
      "     0     0    1.40466    0   38    0.88730    1.40466  58.3%     -    0s\n",
      "     0     0    1.40033    0   42    0.88730    1.40033  57.8%     -    0s\n",
      "     0     0    1.39616    0   27    0.88730    1.39616  57.3%     -    0s\n",
      "     0     0    1.39127    0   29    0.88730    1.39127  56.8%     -    0s\n",
      "     0     0    1.39125    0   30    0.88730    1.39125  56.8%     -    0s\n",
      "     0     0    1.34845    0   23    0.88730    1.34845  52.0%     -    0s\n",
      "     0     0    1.34506    0   25    0.88730    1.34506  51.6%     -    0s\n",
      "     0     0    1.34499    0   27    0.88730    1.34499  51.6%     -    0s\n",
      "     0     0    1.32482    0   25    0.88730    1.32482  49.3%     -    0s\n",
      "     0     0    1.32473    0   19    0.88730    1.32473  49.3%     -    0s\n",
      "     0     0    1.29517    0   30    0.88730    1.29517  46.0%     -    0s\n",
      "     0     0    1.28039    0   41    0.88730    1.28039  44.3%     -    0s\n",
      "     0     0    1.27711    0   33    0.88730    1.27711  43.9%     -    0s\n",
      "     0     0    1.27183    0   41    0.88730    1.27183  43.3%     -    0s\n",
      "     0     0    1.26720    0   40    0.88730    1.26720  42.8%     -    0s\n",
      "     0     0    1.26626    0   42    0.88730    1.26626  42.7%     -    0s\n",
      "     0     0    1.26594    0   40    0.88730    1.26594  42.7%     -    0s\n",
      "     0     0    1.26040    0   37    0.88730    1.26040  42.0%     -    0s\n",
      "     0     0    1.25766    0   46    0.88730    1.25766  41.7%     -    0s\n",
      "     0     0    1.25501    0   48    0.88730    1.25501  41.4%     -    0s\n",
      "     0     0    1.25494    0   48    0.88730    1.25494  41.4%     -    0s\n",
      "     0     0    1.23981    0   31    0.88730    1.23981  39.7%     -    0s\n",
      "     0     0    1.23681    0   26    0.88730    1.23681  39.4%     -    0s\n",
      "     0     0    1.23678    0   44    0.88730    1.23678  39.4%     -    0s\n",
      "     0     0    1.09780    0   17    0.88730    1.09780  23.7%     -    0s\n",
      "     0     0    1.09346    0   16    0.88730    1.09346  23.2%     -    0s\n",
      "     0     0    1.09322    0   18    0.88730    1.09322  23.2%     -    0s\n",
      "     0     0    1.01648    0   10    0.88730    1.01648  14.6%     -    0s\n",
      "     0     0    1.01648    0    3    0.88730    1.01648  14.6%     -    0s\n",
      "     0     0    1.01648    0    7    0.88730    1.01648  14.6%     -    0s\n",
      "     0     0    1.01240    0    5    0.88730    1.01240  14.1%     -    0s\n",
      "     0     0     cutoff    0         0.88730    0.88730  0.00%     -    0s\n",
      "\n",
      "Cutting planes:\n",
      "  Cover: 2\n",
      "  Implied bound: 2\n",
      "  MIR: 3\n",
      "  Flow cover: 2\n",
      "\n",
      "Explored 1 nodes (1171 simplex iterations) in 0.35 seconds\n",
      "Thread count was 8 (of 8 available processors)\n",
      "\n",
      "Solution count 4: 0.8873 0.723 0.2435 0.182 \n",
      "\n",
      "Optimal solution found (tolerance 1.00e-04)\n",
      "Best objective 8.873000000000e-01, best bound 8.873000000000e-01, gap 0.0000%\n",
      "\n",
      "\n",
      " ---- Resulting total radar cross section: 0.8873 m^2 ----\n",
      "\n",
      "\n"
     ]
    }
   ],
   "source": [
    "MAX_DEBRIS = 50\n",
    "BUDGET = 1000\n",
    "\n",
    "for path in ALL_PATHS_TLE:\n",
    "    print(\"Conducting experiment for \" + path[5:][:-4])\n",
    "    A, P = data_processing.compute_static_TSP_instance(PATH_TO_SATCAT, path, MAX_DEBRIS)\n",
    "    res = mips_static.TSP_static(A, P, BUDGET)\n",
    "    print(\"\\n\\n ---- Resulting total radar cross section: \" + str(res.objVal) + \" m^2 ----\\n\\n\")"
   ]
  },
  {
   "cell_type": "markdown",
   "metadata": {},
   "source": [
    "# Experiment 2: Varying the static TSP formulation"
   ]
  },
  {
   "cell_type": "markdown",
   "metadata": {},
   "source": [
    "In order to test the performance of the different TSP formulations, we can try them on the same data set."
   ]
  },
  {
   "cell_type": "code",
   "execution_count": 4,
   "metadata": {},
   "outputs": [
    {
     "name": "stdout",
     "output_type": "stream",
     "text": [
      "Preprocessing indices for three impulse approximation\n"
     ]
    },
    {
     "data": {
      "application/vnd.jupyter.widget-view+json": {
       "model_id": "6a5f2189e4f44b6286ef4fad91471532",
       "version_major": 2,
       "version_minor": 0
      },
      "text/plain": [
       "HBox(children=(IntProgress(value=0, max=304), HTML(value='')))"
      ]
     },
     "metadata": {},
     "output_type": "display_data"
    },
    {
     "name": "stdout",
     "output_type": "stream",
     "text": [
      "\n",
      "Computing cost approximations for static TSP\n"
     ]
    },
    {
     "data": {
      "application/vnd.jupyter.widget-view+json": {
       "model_id": "8570ab83aee64ee79a020ac72ec24d3c",
       "version_major": 2,
       "version_minor": 0
      },
      "text/plain": [
       "HBox(children=(IntProgress(value=0, max=279), HTML(value='')))"
      ]
     },
     "metadata": {},
     "output_type": "display_data"
    },
    {
     "name": "stdout",
     "output_type": "stream",
     "text": [
      "\n",
      "\n",
      "\n",
      "Conducting experiment for sec type F1\n",
      "\n",
      "\n",
      "Optimize a model with 1024 rows, 1891 columns and 6543 nonzeros\n",
      "Variable types: 930 continuous, 961 integer (961 binary)\n",
      "Coefficient statistics:\n",
      "  Matrix range     [1e+00, 1e+04]\n",
      "  Objective range  [7e-02, 3e+00]\n",
      "  Bounds range     [1e+00, 1e+00]\n",
      "  RHS range        [1e+00, 1e+03]\n",
      "Found heuristic solution: objective 0.1455000\n",
      "Presolve removed 806 rows and 1555 columns\n",
      "Presolve time: 0.01s\n",
      "Presolved: 218 rows, 336 columns, 1179 nonzeros\n",
      "Variable types: 159 continuous, 177 integer (177 binary)\n",
      "\n",
      "Root relaxation: objective 6.516203e+00, 260 iterations, 0.00 seconds\n",
      "\n",
      "    Nodes    |    Current Node    |     Objective Bounds      |     Work\n",
      " Expl Unexpl |  Obj  Depth IntInf | Incumbent    BestBd   Gap | It/Node Time\n",
      "\n",
      "     0     0    6.51620    0   27    0.14550    6.51620  4378%     -    0s\n",
      "     0     0    6.28340    0   26    0.14550    6.28340  4218%     -    0s\n",
      "H    0     0                       0.6621000    6.28340   849%     -    0s\n",
      "H    0     0                       0.7762000    6.28340   710%     -    0s\n",
      "     0     0    5.55077    0   33    0.77620    5.55077   615%     -    0s\n",
      "     0     0    5.12143    0   45    0.77620    5.12143   560%     -    0s\n",
      "H    0     0                       0.9146000    5.12143   460%     -    0s\n",
      "     0     0    5.05319    0   31    0.91460    5.05319   453%     -    0s\n",
      "     0     0    5.04028    0   35    0.91460    5.04028   451%     -    0s\n",
      "     0     0    5.04028    0   35    0.91460    5.04028   451%     -    0s\n",
      "     0     0    4.87846    0   31    0.91460    4.87846   433%     -    0s\n",
      "     0     0    4.87832    0   31    0.91460    4.87832   433%     -    0s\n",
      "     0     0    4.83772    0   40    0.91460    4.83772   429%     -    0s\n",
      "     0     0    4.83772    0   40    0.91460    4.83772   429%     -    0s\n",
      "     0     0    4.80539    0   40    0.91460    4.80539   425%     -    0s\n",
      "     0     0    4.80493    0   42    0.91460    4.80493   425%     -    0s\n",
      "H    0     0                       3.8848000    4.80493  23.7%     -    0s\n",
      "     0     0    4.76534    0   41    3.88480    4.76534  22.7%     -    0s\n",
      "H    0     0                       3.9748000    4.76534  19.9%     -    0s\n",
      "     0     0    4.76024    0   39    3.97480    4.76024  19.8%     -    0s\n",
      "     0     0    4.76019    0   39    3.97480    4.76019  19.8%     -    0s\n",
      "     0     0    4.74068    0   48    3.97480    4.74068  19.3%     -    0s\n",
      "     0     0    4.73879    0   54    3.97480    4.73879  19.2%     -    0s\n",
      "     0     0    4.73853    0   55    3.97480    4.73853  19.2%     -    0s\n",
      "     0     0    4.64320    0   40    3.97480    4.64320  16.8%     -    0s\n",
      "     0     0    4.64303    0   54    3.97480    4.64303  16.8%     -    0s\n",
      "     0     0    4.60202    0   45    3.97480    4.60202  15.8%     -    0s\n",
      "     0     0    4.59999    0   44    3.97480    4.59999  15.7%     -    0s\n",
      "     0     0    4.59998    0   45    3.97480    4.59998  15.7%     -    0s\n",
      "     0     0    4.54291    0   34    3.97480    4.54291  14.3%     -    0s\n",
      "     0     0    4.53862    0   43    3.97480    4.53862  14.2%     -    0s\n",
      "     0     0    4.52050    0   41    3.97480    4.52050  13.7%     -    0s\n",
      "     0     0    4.51087    0   40    3.97480    4.51087  13.5%     -    0s\n",
      "     0     0    4.51087    0   40    3.97480    4.51087  13.5%     -    0s\n",
      "     0     0    4.48500    0   42    3.97480    4.48500  12.8%     -    0s\n",
      "     0     0    4.48447    0   44    3.97480    4.48447  12.8%     -    0s\n",
      "     0     0    4.47259    0   54    3.97480    4.47259  12.5%     -    0s\n",
      "     0     0    4.47257    0   48    3.97480    4.47257  12.5%     -    0s\n",
      "     0     0    4.47242    0   48    3.97480    4.47242  12.5%     -    0s\n",
      "     0     0    4.47235    0   54    3.97480    4.47235  12.5%     -    0s\n",
      "     0     0    4.47235    0   49    3.97480    4.47235  12.5%     -    0s\n",
      "     0     0    4.47235    0   29    3.97480    4.47235  12.5%     -    0s\n",
      "     0     0    4.47235    0   43    3.97480    4.47235  12.5%     -    0s\n",
      "     0     0    4.47235    0   26    3.97480    4.47235  12.5%     -    0s\n",
      "     0     0    4.47235    0   24    3.97480    4.47235  12.5%     -    0s\n",
      "     0     0    4.47235    0   27    3.97480    4.47235  12.5%     -    0s\n",
      "     0     0    4.47235    0   47    3.97480    4.47235  12.5%     -    0s\n",
      "     0     0    4.47235    0   35    3.97480    4.47235  12.5%     -    0s\n",
      "     0     0    4.47235    0   53    3.97480    4.47235  12.5%     -    0s\n",
      "     0     0    4.47234    0   53    3.97480    4.47234  12.5%     -    0s\n",
      "     0     0    4.45741    0   45    3.97480    4.45741  12.1%     -    0s\n",
      "     0     0    4.45740    0   48    3.97480    4.45740  12.1%     -    0s\n",
      "     0     0    4.45516    0   56    3.97480    4.45516  12.1%     -    0s\n",
      "     0     0    4.45483    0   56    3.97480    4.45483  12.1%     -    0s\n",
      "     0     0    4.45483    0   55    3.97480    4.45483  12.1%     -    0s\n",
      "     0     2    4.45483    0   55    3.97480    4.45483  12.1%     -    0s\n",
      "\n",
      "Cutting planes:\n",
      "  Gomory: 1\n",
      "  Implied bound: 11\n",
      "  MIR: 9\n",
      "  Flow cover: 16\n",
      "  Flow path: 1\n",
      "  Network: 4\n",
      "\n",
      "Explored 62 nodes (2554 simplex iterations) in 0.48 seconds\n",
      "Thread count was 8 (of 8 available processors)\n",
      "\n",
      "Solution count 6: 3.9748 3.8848 0.9146 ... 0.1455\n",
      "\n",
      "Optimal solution found (tolerance 1.00e-04)\n",
      "Best objective 3.974800000000e+00, best bound 3.974800000000e+00, gap 0.0000%\n",
      "\n",
      "\n",
      "Conducting experiment for sec type F3\n",
      "\n",
      "\n",
      "Optimize a model with 1024 rows, 1891 columns and 6543 nonzeros\n",
      "Variable types: 930 continuous, 961 integer (961 binary)\n",
      "Coefficient statistics:\n",
      "  Matrix range     [1e+00, 1e+04]\n",
      "  Objective range  [7e-02, 3e+00]\n",
      "  Bounds range     [1e+00, 1e+00]\n",
      "  RHS range        [1e+00, 1e+03]\n",
      "Found heuristic solution: objective 0.1455000\n",
      "Presolve removed 806 rows and 1555 columns\n",
      "Presolve time: 0.01s\n",
      "Presolved: 218 rows, 336 columns, 1179 nonzeros\n",
      "Variable types: 159 continuous, 177 integer (177 binary)\n",
      "\n",
      "Root relaxation: objective 6.516203e+00, 260 iterations, 0.00 seconds\n",
      "\n",
      "    Nodes    |    Current Node    |     Objective Bounds      |     Work\n",
      " Expl Unexpl |  Obj  Depth IntInf | Incumbent    BestBd   Gap | It/Node Time\n",
      "\n",
      "     0     0    6.51620    0   27    0.14550    6.51620  4378%     -    0s\n",
      "     0     0    6.28340    0   26    0.14550    6.28340  4218%     -    0s\n",
      "H    0     0                       0.6621000    6.28340   849%     -    0s\n",
      "H    0     0                       0.7762000    6.28340   710%     -    0s\n",
      "     0     0    5.55077    0   33    0.77620    5.55077   615%     -    0s\n",
      "     0     0    5.12143    0   45    0.77620    5.12143   560%     -    0s\n",
      "H    0     0                       0.9146000    5.12143   460%     -    0s\n",
      "     0     0    5.05319    0   31    0.91460    5.05319   453%     -    0s\n",
      "     0     0    5.04028    0   35    0.91460    5.04028   451%     -    0s\n",
      "     0     0    5.04028    0   35    0.91460    5.04028   451%     -    0s\n",
      "     0     0    4.87846    0   31    0.91460    4.87846   433%     -    0s\n",
      "     0     0    4.87832    0   31    0.91460    4.87832   433%     -    0s\n",
      "     0     0    4.83772    0   40    0.91460    4.83772   429%     -    0s\n",
      "     0     0    4.83772    0   40    0.91460    4.83772   429%     -    0s\n",
      "     0     0    4.80539    0   40    0.91460    4.80539   425%     -    0s\n",
      "     0     0    4.80493    0   42    0.91460    4.80493   425%     -    0s\n",
      "H    0     0                       3.8848000    4.80493  23.7%     -    0s\n",
      "     0     0    4.76534    0   41    3.88480    4.76534  22.7%     -    0s\n",
      "H    0     0                       3.9748000    4.76534  19.9%     -    0s\n",
      "     0     0    4.76024    0   39    3.97480    4.76024  19.8%     -    0s\n",
      "     0     0    4.76019    0   39    3.97480    4.76019  19.8%     -    0s\n",
      "     0     0    4.74068    0   48    3.97480    4.74068  19.3%     -    0s\n",
      "     0     0    4.73879    0   54    3.97480    4.73879  19.2%     -    0s\n",
      "     0     0    4.73853    0   55    3.97480    4.73853  19.2%     -    0s\n",
      "     0     0    4.64320    0   40    3.97480    4.64320  16.8%     -    0s\n",
      "     0     0    4.64303    0   54    3.97480    4.64303  16.8%     -    0s\n",
      "     0     0    4.60202    0   45    3.97480    4.60202  15.8%     -    0s\n",
      "     0     0    4.59999    0   44    3.97480    4.59999  15.7%     -    0s\n"
     ]
    },
    {
     "name": "stdout",
     "output_type": "stream",
     "text": [
      "     0     0    4.59998    0   45    3.97480    4.59998  15.7%     -    0s\n",
      "     0     0    4.54291    0   34    3.97480    4.54291  14.3%     -    0s\n",
      "     0     0    4.53862    0   43    3.97480    4.53862  14.2%     -    0s\n",
      "     0     0    4.52050    0   41    3.97480    4.52050  13.7%     -    0s\n",
      "     0     0    4.51087    0   40    3.97480    4.51087  13.5%     -    0s\n",
      "     0     0    4.51087    0   40    3.97480    4.51087  13.5%     -    0s\n",
      "     0     0    4.48500    0   42    3.97480    4.48500  12.8%     -    0s\n",
      "     0     0    4.48447    0   44    3.97480    4.48447  12.8%     -    0s\n",
      "     0     0    4.47259    0   54    3.97480    4.47259  12.5%     -    0s\n",
      "     0     0    4.47257    0   48    3.97480    4.47257  12.5%     -    0s\n",
      "     0     0    4.47242    0   48    3.97480    4.47242  12.5%     -    0s\n",
      "     0     0    4.47235    0   54    3.97480    4.47235  12.5%     -    0s\n",
      "     0     0    4.47235    0   49    3.97480    4.47235  12.5%     -    0s\n",
      "     0     0    4.47235    0   29    3.97480    4.47235  12.5%     -    0s\n",
      "     0     0    4.47235    0   43    3.97480    4.47235  12.5%     -    0s\n",
      "     0     0    4.47235    0   26    3.97480    4.47235  12.5%     -    0s\n",
      "     0     0    4.47235    0   24    3.97480    4.47235  12.5%     -    0s\n",
      "     0     0    4.47235    0   27    3.97480    4.47235  12.5%     -    0s\n",
      "     0     0    4.47235    0   47    3.97480    4.47235  12.5%     -    0s\n",
      "     0     0    4.47235    0   35    3.97480    4.47235  12.5%     -    0s\n",
      "     0     0    4.47235    0   53    3.97480    4.47235  12.5%     -    0s\n",
      "     0     0    4.47234    0   53    3.97480    4.47234  12.5%     -    0s\n",
      "     0     0    4.45741    0   45    3.97480    4.45741  12.1%     -    0s\n",
      "     0     0    4.45740    0   48    3.97480    4.45740  12.1%     -    0s\n",
      "     0     0    4.45516    0   56    3.97480    4.45516  12.1%     -    0s\n",
      "     0     0    4.45483    0   56    3.97480    4.45483  12.1%     -    0s\n",
      "     0     0    4.45483    0   55    3.97480    4.45483  12.1%     -    0s\n",
      "     0     2    4.45483    0   55    3.97480    4.45483  12.1%     -    0s\n",
      "\n",
      "Cutting planes:\n",
      "  Gomory: 1\n",
      "  Implied bound: 11\n",
      "  MIR: 9\n",
      "  Flow cover: 16\n",
      "  Flow path: 1\n",
      "  Network: 4\n",
      "\n",
      "Explored 62 nodes (2554 simplex iterations) in 0.51 seconds\n",
      "Thread count was 8 (of 8 available processors)\n",
      "\n",
      "Solution count 6: 3.9748 3.8848 0.9146 ... 0.1455\n",
      "\n",
      "Optimal solution found (tolerance 1.00e-04)\n",
      "Best objective 3.974800000000e+00, best bound 3.974800000000e+00, gap 0.0000%\n",
      "\n",
      "\n",
      "Conducting experiment for sec type seq\n",
      "\n",
      "\n",
      "Optimize a model with 933 rows, 992 columns and 7142 nonzeros\n",
      "Variable types: 0 continuous, 992 integer (961 binary)\n",
      "Coefficient statistics:\n",
      "  Matrix range     [1e+00, 1e+04]\n",
      "  Objective range  [7e-02, 3e+00]\n",
      "  Bounds range     [1e+00, 3e+01]\n",
      "  RHS range        [9e+01, 1e+03]\n",
      "Found heuristic solution: objective -0.0000000\n",
      "Presolve removed 772 rows and 789 columns\n",
      "Presolve time: 0.01s\n",
      "Presolved: 161 rows, 203 columns, 836 nonzeros\n",
      "Found heuristic solution: objective 0.1079000\n",
      "Variable types: 0 continuous, 203 integer (184 binary)\n",
      "\n",
      "Root relaxation: objective 6.653453e+00, 99 iterations, 0.00 seconds\n",
      "\n",
      "    Nodes    |    Current Node    |     Objective Bounds      |     Work\n",
      " Expl Unexpl |  Obj  Depth IntInf | Incumbent    BestBd   Gap | It/Node Time\n",
      "\n",
      "     0     0    6.65345    0   36    0.10790    6.65345  6066%     -    0s\n",
      "H    0     0                       3.8848000    6.65345  71.3%     -    0s\n",
      "     0     0    5.69329    0   52    3.88480    5.69329  46.6%     -    0s\n",
      "H    0     0                       3.9748000    5.69329  43.2%     -    0s\n",
      "     0     0    5.69329    0   47    3.97480    5.69329  43.2%     -    0s\n",
      "     0     0    5.14963    0   31    3.97480    5.14963  29.6%     -    0s\n",
      "     0     0    5.06128    0   33    3.97480    5.06128  27.3%     -    0s\n",
      "     0     0    5.06128    0   34    3.97480    5.06128  27.3%     -    0s\n",
      "     0     0    5.03128    0   37    3.97480    5.03128  26.6%     -    0s\n",
      "     0     0    5.03128    0   34    3.97480    5.03128  26.6%     -    0s\n",
      "     0     0    5.03128    0   36    3.97480    5.03128  26.6%     -    0s\n",
      "     0     0    5.03128    0   34    3.97480    5.03128  26.6%     -    0s\n",
      "     0     0    5.03128    0   33    3.97480    5.03128  26.6%     -    0s\n",
      "     0     0    5.03128    0   33    3.97480    5.03128  26.6%     -    0s\n",
      "     0     0    5.03128    0   32    3.97480    5.03128  26.6%     -    0s\n",
      "     0     0    5.03128    0   34    3.97480    5.03128  26.6%     -    0s\n",
      "     0     0    5.02798    0   35    3.97480    5.02798  26.5%     -    0s\n",
      "     0     0    5.02710    0   36    3.97480    5.02710  26.5%     -    0s\n",
      "     0     0    4.99289    0   36    3.97480    4.99289  25.6%     -    0s\n",
      "     0     0    4.99289    0   37    3.97480    4.99289  25.6%     -    0s\n",
      "     0     0    4.99289    0   38    3.97480    4.99289  25.6%     -    0s\n",
      "     0     0    4.99289    0   38    3.97480    4.99289  25.6%     -    0s\n",
      "     0     2    4.99289    0   38    3.97480    4.99289  25.6%     -    0s\n",
      "\n",
      "Cutting planes:\n",
      "  Learned: 10\n",
      "  Gomory: 5\n",
      "  Cover: 53\n",
      "  Implied bound: 35\n",
      "  MIR: 26\n",
      "  GUB cover: 1\n",
      "  Inf proof: 8\n",
      "  Zero half: 1\n",
      "\n",
      "Explored 1502 nodes (9112 simplex iterations) in 0.35 seconds\n",
      "Thread count was 8 (of 8 available processors)\n",
      "\n",
      "Solution count 3: 3.9748 3.8848 0.1079 \n",
      "\n",
      "Optimal solution found (tolerance 1.00e-04)\n",
      "Best objective 3.974800000000e+00, best bound 3.974800000000e+00, gap 0.0000%\n",
      "\n",
      "\n",
      "Conducting experiment for sec type T1\n",
      "\n",
      "\n",
      "Optimize a model with 1024 rows, 30721 columns and 115443 nonzeros\n",
      "Variable types: 930 continuous, 29791 integer (29791 binary)\n",
      "Coefficient statistics:\n",
      "  Matrix range     [1e+00, 1e+04]\n",
      "  Objective range  [7e-02, 3e+00]\n",
      "  Bounds range     [1e+00, 1e+00]\n",
      "  RHS range        [6e+01, 1e+03]\n",
      "Found heuristic solution: objective -0.0000000\n",
      "Presolve removed 842 rows and 27121 columns\n",
      "Presolve time: 0.08s\n",
      "Presolved: 182 rows, 3600 columns, 10902 nonzeros\n",
      "Found heuristic solution: objective 0.1079000\n",
      "Variable types: 0 continuous, 3600 integer (3600 binary)\n",
      "\n",
      "Root relaxation: objective 6.661901e+00, 317 iterations, 0.01 seconds\n",
      "\n",
      "    Nodes    |    Current Node    |     Objective Bounds      |     Work\n",
      " Expl Unexpl |  Obj  Depth IntInf | Incumbent    BestBd   Gap | It/Node Time\n",
      "\n",
      "     0     0    6.66190    0   44    0.10790    6.66190  6074%     -    0s\n",
      "H    0     0                       0.5585000    6.66190  1093%     -    0s\n",
      "     0     0    6.66100    0   75    0.55850    6.66100  1093%     -    0s\n",
      "     0     0    6.65980    0   79    0.55850    6.65980  1092%     -    0s\n",
      "H    0     0                       3.3040000    6.65980   102%     -    0s\n",
      "     0     0    6.58366    0   81    3.30400    6.58366  99.3%     -    0s\n",
      "     0     0    6.58366    0   82    3.30400    6.58366  99.3%     -    0s\n",
      "     0     0    6.57663    0   82    3.30400    6.57663  99.1%     -    0s\n",
      "H    0     0                       3.7977000    6.57663  73.2%     -    0s\n",
      "     0     0    6.48836    0   88    3.79770    6.48836  70.8%     -    0s\n",
      "     0     0    6.43156    0   82    3.79770    6.43156  69.4%     -    0s\n",
      "H    0     0                       3.8877000    6.43156  65.4%     -    0s\n",
      "     0     0    6.43156    0   85    3.88770    6.43156  65.4%     -    0s\n",
      "     0     0    6.43156    0   86    3.88770    6.43156  65.4%     -    0s\n",
      "     0     0    6.43156    0   77    3.88770    6.43156  65.4%     -    0s\n",
      "     0     0    6.43156    0   76    3.88770    6.43156  65.4%     -    0s\n",
      "     0     0    6.43156    0   76    3.88770    6.43156  65.4%     -    0s\n",
      "     0     2    6.43156    0   76    3.88770    6.43156  65.4%     -    0s\n",
      "H  306    77                       3.9748000    5.61518  41.3%  17.6    0s\n",
      "\n",
      "Cutting planes:\n",
      "  Cover: 90\n",
      "  Clique: 20\n",
      "  MIR: 26\n",
      "  StrongCG: 18\n",
      "  GUB cover: 13\n",
      "  Inf proof: 24\n",
      "  Zero half: 4\n",
      "\n",
      "Explored 3143 nodes (39989 simplex iterations) in 2.14 seconds\n",
      "Thread count was 8 (of 8 available processors)\n",
      "\n",
      "Solution count 6: 3.9748 3.8877 3.7977 ... 0.1079\n",
      "\n",
      "Optimal solution found (tolerance 1.00e-04)\n",
      "Best objective 3.974800000000e+00, best bound 3.974800000000e+00, gap 0.0000%\n",
      "\n",
      "\n",
      "Conducting experiment for sec type T2\n",
      "\n",
      "\n",
      "Optimize a model with 1116 rows, 29791 columns and 173134 nonzeros\n",
      "Variable types: 28830 continuous, 961 integer (961 binary)\n"
     ]
    },
    {
     "name": "stdout",
     "output_type": "stream",
     "text": [
      "Coefficient statistics:\n",
      "  Matrix range     [1e+00, 1e+04]\n",
      "  Objective range  [7e-02, 3e+00]\n",
      "  Bounds range     [1e+00, 1e+00]\n",
      "  RHS range        [1e+00, 1e+03]\n",
      "Found heuristic solution: objective -0.0000000\n",
      "Presolve removed 846 rows and 24220 columns\n",
      "Presolve time: 0.08s\n",
      "Presolved: 270 rows, 5571 columns, 20288 nonzeros\n",
      "Variable types: 5394 continuous, 177 integer (177 binary)\n",
      "\n",
      "Root relaxation: objective 6.662087e+00, 816 iterations, 0.05 seconds\n",
      "\n",
      "    Nodes    |    Current Node    |     Objective Bounds      |     Work\n",
      " Expl Unexpl |  Obj  Depth IntInf | Incumbent    BestBd   Gap | It/Node Time\n",
      "\n",
      "     0     0    6.66209    0   34   -0.00000    6.66209      -     -    0s\n",
      "H    0     0                       0.5585000    6.66209  1093%     -    0s\n",
      "     0     0    6.56933    0   49    0.55850    6.56933  1076%     -    0s\n",
      "H    0     0                       0.6992000    6.56933   840%     -    0s\n",
      "     0     0    6.55082    0   44    0.69920    6.55082   837%     -    0s\n",
      "     0     0    6.55043    0   48    0.69920    6.55043   837%     -    0s\n",
      "     0     0    6.24440    0   42    0.69920    6.24440   793%     -    0s\n",
      "H    0     0                       3.3040000    6.24440  89.0%     -    0s\n",
      "     0     0    5.94395    0   39    3.30400    5.94395  79.9%     -    0s\n",
      "     0     0    5.77173    0   44    3.30400    5.77173  74.7%     -    0s\n",
      "     0     0    5.76911    0   44    3.30400    5.76911  74.6%     -    0s\n",
      "     0     0    5.69962    0   42    3.30400    5.69962  72.5%     -    0s\n",
      "     0     0    5.69884    0   42    3.30400    5.69884  72.5%     -    0s\n",
      "     0     0    5.66251    0   43    3.30400    5.66251  71.4%     -    0s\n",
      "     0     0    5.66251    0   43    3.30400    5.66251  71.4%     -    0s\n",
      "     0     0    5.53185    0   45    3.30400    5.53185  67.4%     -    0s\n",
      "     0     0    5.53154    0   45    3.30400    5.53154  67.4%     -    0s\n",
      "     0     0    5.53154    0   39    3.30400    5.53154  67.4%     -    0s\n",
      "     0     2    5.53154    0   39    3.30400    5.53154  67.4%     -    0s\n",
      "H   33    26                       3.7977000    5.23753  37.9%  41.3    1s\n",
      "*  652   158              30       3.9748000    4.77329  20.1%  34.8    1s\n",
      "\n",
      "Cutting planes:\n",
      "  Cover: 37\n",
      "  MIR: 31\n",
      "  Flow cover: 24\n",
      "  Inf proof: 2\n",
      "\n",
      "Explored 1727 nodes (51891 simplex iterations) in 2.50 seconds\n",
      "Thread count was 8 (of 8 available processors)\n",
      "\n",
      "Solution count 6: 3.9748 3.7977 3.304 ... -0\n",
      "\n",
      "Optimal solution found (tolerance 1.00e-04)\n",
      "Best objective 3.974800000000e+00, best bound 3.974800000000e+00, gap 0.0000%\n"
     ]
    }
   ],
   "source": [
    "MAX_DEBRIS = 30\n",
    "BUDGET = 1000\n",
    "A, P = data_processing.compute_static_TSP_instance(PATH_TO_SATCAT, PATH_TO_IRIDIUM_TLE, MAX_DEBRIS)\n",
    "\n",
    "for sec in [\"F1\",\"F3\", \"seq\", \"T1\", \"T2\"]:\n",
    "    print(\"\\n\\nConducting experiment for sec type \" + sec + \"\\n\\n\")\n",
    "    res = mips_static.TSP_static(A, P, BUDGET, SEC_TYPE = sec)"
   ]
  },
  {
   "cell_type": "markdown",
   "metadata": {},
   "source": [
    "# Experiment 3: Covering Salesman problem for static TSP"
   ]
  },
  {
   "cell_type": "markdown",
   "metadata": {},
   "source": [
    "Instead of approaching a debris object, we will compute a \"closeness\" list for objects that are close to each other. The idea is that the removal is not performed of the chaser rocket itself, but rather through a microsatellite that exits the chaser rocket (mothership).\n",
    "\n",
    "In this experiment, we will vary the closeness parameter and see the impact on the results"
   ]
  },
  {
   "cell_type": "code",
   "execution_count": 5,
   "metadata": {},
   "outputs": [
    {
     "name": "stdout",
     "output_type": "stream",
     "text": [
      "Preprocessing indices for three impulse approximation\n"
     ]
    },
    {
     "data": {
      "application/vnd.jupyter.widget-view+json": {
       "model_id": "bd15a5c35e434eea9fda60d15664f1e3",
       "version_major": 2,
       "version_minor": 0
      },
      "text/plain": [
       "HBox(children=(IntProgress(value=0, max=304), HTML(value='')))"
      ]
     },
     "metadata": {},
     "output_type": "display_data"
    },
    {
     "name": "stdout",
     "output_type": "stream",
     "text": [
      "\n",
      "Computing cost approximations for static TSP\n"
     ]
    },
    {
     "data": {
      "application/vnd.jupyter.widget-view+json": {
       "model_id": "ab938f3c5ffa4eccb3e1a640e6b9711a",
       "version_major": 2,
       "version_minor": 0
      },
      "text/plain": [
       "HBox(children=(IntProgress(value=0, max=279), HTML(value='')))"
      ]
     },
     "metadata": {},
     "output_type": "display_data"
    },
    {
     "name": "stdout",
     "output_type": "stream",
     "text": [
      "\n",
      "\n",
      "\n",
      "-- Conducting experiment for R = 25 --\n",
      "\n",
      "\n",
      "Changed value of parameter TimeLimit to 10800.0\n",
      "   Prev: 1e+100  Min: 0.0  Max: 1e+100  Default: 1e+100\n",
      "Optimize a model with 1098 rows, 2852 columns and 6714 nonzeros\n",
      "Variable types: 930 continuous, 1922 integer (1922 binary)\n",
      "Coefficient statistics:\n",
      "  Matrix range     [1e+00, 1e+04]\n",
      "  Objective range  [7e-02, 3e+00]\n",
      "  Bounds range     [1e+00, 1e+00]\n",
      "  RHS range        [1e+00, 1e+03]\n",
      "Found heuristic solution: objective 0.6621000\n",
      "Presolve removed 850 rows and 2503 columns\n",
      "Presolve time: 0.01s\n",
      "Presolved: 248 rows, 349 columns, 1266 nonzeros\n",
      "Variable types: 159 continuous, 190 integer (190 binary)\n",
      "\n",
      "Root relaxation: objective 6.577817e+00, 261 iterations, 0.00 seconds\n",
      "\n",
      "    Nodes    |    Current Node    |     Objective Bounds      |     Work\n",
      " Expl Unexpl |  Obj  Depth IntInf | Incumbent    BestBd   Gap | It/Node Time\n",
      "\n",
      "     0     0    6.57782    0   57    0.66210    6.57782   893%     -    0s\n",
      "     0     0    6.53320    0   45    0.66210    6.53320   887%     -    0s\n",
      "     0     0    5.93951    0   45    0.66210    5.93951   797%     -    0s\n",
      "     0     0    5.58094    0   66    0.66210    5.58094   743%     -    0s\n",
      "     0     0    5.50536    0   68    0.66210    5.50536   732%     -    0s\n",
      "H    0     0                       0.7762000    5.50536   609%     -    0s\n",
      "     0     0    5.50492    0   69    0.77620    5.50492   609%     -    0s\n",
      "     0     0    5.18543    0   60    0.77620    5.18543   568%     -    0s\n",
      "     0     0    5.18093    0   59    0.77620    5.18093   567%     -    0s\n",
      "     0     0    5.18081    0   61    0.77620    5.18081   567%     -    0s\n",
      "     0     0    5.05432    0   65    0.77620    5.05432   551%     -    0s\n",
      "     0     0    5.05324    0   70    0.77620    5.05324   551%     -    0s\n",
      "     0     0    5.01700    0   48    0.77620    5.01700   546%     -    0s\n",
      "     0     0    4.99924    0   46    0.77620    4.99924   544%     -    0s\n",
      "     0     0    4.99865    0   47    0.77620    4.99865   544%     -    0s\n",
      "     0     0    4.98951    0   44    0.77620    4.98951   543%     -    0s\n",
      "H    0     0                       3.3040000    4.98951  51.0%     -    0s\n",
      "     0     0    4.98766    0   46    3.30400    4.98766  51.0%     -    0s\n",
      "     0     0    4.98766    0   46    3.30400    4.98766  51.0%     -    0s\n",
      "     0     0    4.98743    0   44    3.30400    4.98743  51.0%     -    0s\n",
      "     0     0    4.98743    0   44    3.30400    4.98743  51.0%     -    0s\n",
      "H    0     0                       3.8877000    4.98743  28.3%     -    0s\n",
      "H    0     0                       3.9748000    4.98743  25.5%     -    0s\n",
      "     0     2    4.98743    0   44    3.97480    4.98743  25.5%     -    0s\n",
      "\n",
      "Cutting planes:\n",
      "  Gomory: 3\n",
      "  Cover: 2\n",
      "  Implied bound: 17\n",
      "  MIR: 24\n",
      "  StrongCG: 1\n",
      "  Flow cover: 41\n",
      "  Zero half: 11\n",
      "  Network: 8\n",
      "\n",
      "Explored 399 nodes (6559 simplex iterations) in 0.39 seconds\n",
      "Thread count was 8 (of 8 available processors)\n",
      "\n",
      "Solution count 5: 3.9748 3.8877 3.304 ... 0.6621\n",
      "\n",
      "Optimal solution found (tolerance 1.00e-04)\n",
      "Best objective 3.974800000000e+00, best bound 3.974800000000e+00, gap 0.0000%\n",
      "\n",
      "\n",
      " ---- Resulting total radar cross section: 3.9748 m^2 ----\n",
      "\n",
      "\n",
      "\n",
      "\n",
      "-- Conducting experiment for R = 50 --\n",
      "\n",
      "\n",
      "Changed value of parameter TimeLimit to 10800.0\n",
      "   Prev: 1e+100  Min: 0.0  Max: 1e+100  Default: 1e+100\n",
      "Optimize a model with 1100 rows, 2852 columns and 6726 nonzeros\n",
      "Variable types: 930 continuous, 1922 integer (1922 binary)\n",
      "Coefficient statistics:\n",
      "  Matrix range     [1e+00, 1e+04]\n",
      "  Objective range  [7e-02, 3e+00]\n",
      "  Bounds range     [1e+00, 1e+00]\n",
      "  RHS range        [1e+00, 1e+03]\n",
      "Found heuristic solution: objective 0.6621000\n",
      "Presolve removed 846 rows and 2499 columns\n",
      "Presolve time: 0.01s\n",
      "Presolved: 254 rows, 353 columns, 1290 nonzeros\n",
      "Variable types: 159 continuous, 194 integer (194 binary)\n",
      "\n",
      "Root relaxation: objective 6.603784e+00, 261 iterations, 0.01 seconds\n",
      "\n",
      "    Nodes    |    Current Node    |     Objective Bounds      |     Work\n",
      " Expl Unexpl |  Obj  Depth IntInf | Incumbent    BestBd   Gap | It/Node Time\n",
      "\n",
      "     0     0    6.60378    0   61    0.66210    6.60378   897%     -    0s\n",
      "     0     0    6.54622    0   47    0.66210    6.54622   889%     -    0s\n",
      "     0     0    6.02072    0   56    0.66210    6.02072   809%     -    0s\n",
      "H    0     0                       3.3040000    6.02072  82.2%     -    0s\n",
      "     0     0    5.64902    0   56    3.30400    5.64902  71.0%     -    0s\n",
      "     0     0    5.56990    0   71    3.30400    5.56990  68.6%     -    0s\n",
      "     0     0    5.56752    0   72    3.30400    5.56752  68.5%     -    0s\n",
      "     0     0    5.47956    0   67    3.30400    5.47956  65.8%     -    0s\n",
      "     0     0    5.46461    0   65    3.30400    5.46461  65.4%     -    0s\n",
      "     0     0    5.46423    0   65    3.30400    5.46423  65.4%     -    0s\n",
      "     0     0    5.32460    0   60    3.30400    5.32460  61.2%     -    0s\n",
      "     0     0    5.32114    0   61    3.30400    5.32114  61.1%     -    0s\n",
      "     0     0    5.16798    0   68    3.30400    5.16798  56.4%     -    0s\n",
      "     0     0    5.16225    0   72    3.30400    5.16225  56.2%     -    0s\n",
      "     0     0    5.15899    0   65    3.30400    5.15899  56.1%     -    0s\n",
      "     0     0    5.14008    0   68    3.30400    5.14008  55.6%     -    0s\n",
      "H    0     0                       3.8877000    5.14008  32.2%     -    0s\n",
      "     0     0    5.13870    0   67    3.88770    5.13870  32.2%     -    0s\n",
      "     0     0    5.13272    0   59    3.88770    5.13272  32.0%     -    0s\n",
      "     0     0    5.13272    0   59    3.88770    5.13272  32.0%     -    0s\n",
      "     0     0    5.12640    0   67    3.88770    5.12640  31.9%     -    0s\n",
      "     0     0    5.12640    0   67    3.88770    5.12640  31.9%     -    0s\n",
      "     0     2    5.12640    0   67    3.88770    5.12640  31.9%     -    0s\n",
      "H  121    31                       3.9748000    4.61270  16.0%  16.5    0s\n",
      "\n",
      "Cutting planes:\n",
      "  Gomory: 3\n",
      "  Cover: 1\n",
      "  Implied bound: 15\n",
      "  MIR: 21\n",
      "  Flow cover: 29\n",
      "  Zero half: 13\n",
      "  Network: 7\n",
      "\n",
      "Explored 344 nodes (5292 simplex iterations) in 0.39 seconds\n",
      "Thread count was 8 (of 8 available processors)\n",
      "\n",
      "Solution count 4: 3.9748 3.8877 3.304 0.6621 \n",
      "\n",
      "Optimal solution found (tolerance 1.00e-04)\n",
      "Best objective 3.974800000000e+00, best bound 3.974800000000e+00, gap 0.0000%\n",
      "\n",
      "\n",
      " ---- Resulting total radar cross section: 3.9748 m^2 ----\n",
      "\n",
      "\n",
      "\n",
      "\n",
      "-- Conducting experiment for R = 75 --\n",
      "\n",
      "\n",
      "Changed value of parameter TimeLimit to 10800.0\n",
      "   Prev: 1e+100  Min: 0.0  Max: 1e+100  Default: 1e+100\n",
      "Optimize a model with 1100 rows, 2852 columns and 6726 nonzeros\n",
      "Variable types: 930 continuous, 1922 integer (1922 binary)\n",
      "Coefficient statistics:\n",
      "  Matrix range     [1e+00, 1e+04]\n",
      "  Objective range  [7e-02, 3e+00]\n",
      "  Bounds range     [1e+00, 1e+00]\n",
      "  RHS range        [1e+00, 1e+03]\n",
      "Found heuristic solution: objective 0.6621000\n",
      "Presolve removed 846 rows and 2499 columns\n",
      "Presolve time: 0.01s\n",
      "Presolved: 254 rows, 353 columns, 1290 nonzeros\n",
      "Variable types: 159 continuous, 194 integer (194 binary)\n",
      "\n",
      "Root relaxation: objective 6.603784e+00, 261 iterations, 0.00 seconds\n",
      "\n",
      "    Nodes    |    Current Node    |     Objective Bounds      |     Work\n",
      " Expl Unexpl |  Obj  Depth IntInf | Incumbent    BestBd   Gap | It/Node Time\n",
      "\n",
      "     0     0    6.60378    0   61    0.66210    6.60378   897%     -    0s\n",
      "     0     0    6.54622    0   47    0.66210    6.54622   889%     -    0s\n",
      "     0     0    6.02072    0   56    0.66210    6.02072   809%     -    0s\n",
      "H    0     0                       3.3040000    6.02072  82.2%     -    0s\n",
      "     0     0    5.64902    0   56    3.30400    5.64902  71.0%     -    0s\n",
      "     0     0    5.56990    0   71    3.30400    5.56990  68.6%     -    0s\n",
      "     0     0    5.56752    0   72    3.30400    5.56752  68.5%     -    0s\n",
      "     0     0    5.47956    0   67    3.30400    5.47956  65.8%     -    0s\n",
      "     0     0    5.46461    0   65    3.30400    5.46461  65.4%     -    0s\n",
      "     0     0    5.46423    0   65    3.30400    5.46423  65.4%     -    0s\n",
      "     0     0    5.32460    0   60    3.30400    5.32460  61.2%     -    0s\n",
      "     0     0    5.32114    0   61    3.30400    5.32114  61.1%     -    0s\n",
      "     0     0    5.16798    0   68    3.30400    5.16798  56.4%     -    0s\n",
      "     0     0    5.16225    0   72    3.30400    5.16225  56.2%     -    0s\n",
      "     0     0    5.15899    0   65    3.30400    5.15899  56.1%     -    0s\n"
     ]
    },
    {
     "name": "stdout",
     "output_type": "stream",
     "text": [
      "     0     0    5.14008    0   68    3.30400    5.14008  55.6%     -    0s\n",
      "H    0     0                       3.8877000    5.14008  32.2%     -    0s\n",
      "     0     0    5.13870    0   67    3.88770    5.13870  32.2%     -    0s\n",
      "     0     0    5.13272    0   59    3.88770    5.13272  32.0%     -    0s\n",
      "     0     0    5.13272    0   59    3.88770    5.13272  32.0%     -    0s\n",
      "     0     0    5.12640    0   67    3.88770    5.12640  31.9%     -    0s\n",
      "     0     0    5.12640    0   67    3.88770    5.12640  31.9%     -    0s\n",
      "     0     2    5.12640    0   67    3.88770    5.12640  31.9%     -    0s\n",
      "H  121    31                       3.9748000    4.61270  16.0%  16.5    0s\n",
      "\n",
      "Cutting planes:\n",
      "  Gomory: 3\n",
      "  Cover: 1\n",
      "  Implied bound: 15\n",
      "  MIR: 21\n",
      "  Flow cover: 29\n",
      "  Zero half: 13\n",
      "  Network: 7\n",
      "\n",
      "Explored 344 nodes (5292 simplex iterations) in 0.37 seconds\n",
      "Thread count was 8 (of 8 available processors)\n",
      "\n",
      "Solution count 4: 3.9748 3.8877 3.304 0.6621 \n",
      "\n",
      "Optimal solution found (tolerance 1.00e-04)\n",
      "Best objective 3.974800000000e+00, best bound 3.974800000000e+00, gap 0.0000%\n",
      "\n",
      "\n",
      " ---- Resulting total radar cross section: 3.9748 m^2 ----\n",
      "\n",
      "\n"
     ]
    }
   ],
   "source": [
    "MAX_DEBRIS = 30\n",
    "BUDGET = 1000\n",
    "A, P = data_processing.compute_static_TSP_instance(PATH_TO_SATCAT, PATH_TO_IRIDIUM_TLE, nMaxNodes = MAX_DEBRIS)\n",
    "\n",
    "for R in [25, 50, 75]:\n",
    "    print(\"\\n\\n-- Conducting experiment for R = \" + str(R) + \" --\\n\\n\")\n",
    "    C = data_processing.compute_closeness(A, R)\n",
    "    mips_static.cov_TSP_with_covering_cost(A, P, C, BUDGET)\n",
    "    print(\"\\n\\n ---- Resulting total radar cross section: \" + str(res.objVal) + \" m^2 ----\\n\\n\")"
   ]
  },
  {
   "cell_type": "markdown",
   "metadata": {},
   "source": [
    "# Experiment 4: Find optimal solutions for dynamic TSP"
   ]
  },
  {
   "cell_type": "code",
   "execution_count": 6,
   "metadata": {},
   "outputs": [],
   "source": [
    "from optimization import mips_dynamic"
   ]
  },
  {
   "cell_type": "code",
   "execution_count": 7,
   "metadata": {},
   "outputs": [
    {
     "name": "stdout",
     "output_type": "stream",
     "text": [
      "Conducting experiment for iridium-33-debris\n",
      "Preprocessing indices for dynamic three impulse approximation\n"
     ]
    },
    {
     "data": {
      "application/vnd.jupyter.widget-view+json": {
       "model_id": "d3ab1256743146a6911201cf816ab400",
       "version_major": 2,
       "version_minor": 0
      },
      "text/plain": [
       "HBox(children=(IntProgress(value=0, max=304), HTML(value='')))"
      ]
     },
     "metadata": {},
     "output_type": "display_data"
    },
    {
     "name": "stdout",
     "output_type": "stream",
     "text": [
      "\n",
      "Computing cost approximations for dynamic TSP\n"
     ]
    },
    {
     "data": {
      "application/vnd.jupyter.widget-view+json": {
       "model_id": "e24a894d5b4743a5a81be3e6deead35e",
       "version_major": 2,
       "version_minor": 0
      },
      "text/plain": [
       "HBox(children=(IntProgress(value=0, max=303), HTML(value='')))"
      ]
     },
     "metadata": {},
     "output_type": "display_data"
    },
    {
     "name": "stdout",
     "output_type": "stream",
     "text": [
      "\n",
      "Optimize a model with 93 rows, 9331 columns and 43592 nonzeros\n",
      "Variable types: 0 continuous, 9331 integer (9331 binary)\n",
      "Coefficient statistics:\n",
      "  Matrix range     [1e+00, 2e+04]\n",
      "  Objective range  [7e-02, 3e+00]\n",
      "  Bounds range     [1e+00, 1e+00]\n",
      "  RHS range        [1e+03, 1e+03]\n",
      "Found heuristic solution: objective -0.0000000\n",
      "Presolve removed 15 rows and 8285 columns\n",
      "Presolve time: 0.03s\n",
      "Presolved: 78 rows, 1046 columns, 4903 nonzeros\n",
      "Found heuristic solution: objective 0.1079000\n",
      "Variable types: 0 continuous, 1046 integer (1046 binary)\n",
      "\n",
      "Root relaxation: objective 5.175019e+00, 139 iterations, 0.00 seconds\n",
      "\n",
      "    Nodes    |    Current Node    |     Objective Bounds      |     Work\n",
      " Expl Unexpl |  Obj  Depth IntInf | Incumbent    BestBd   Gap | It/Node Time\n",
      "\n",
      "     0     0    5.17502    0   38    0.10790    5.17502  4696%     -    0s\n",
      "H    0     0                       3.7977000    5.17502  36.3%     -    0s\n",
      "H    0     0                       3.8877000    5.17499  33.1%     -    0s\n",
      "     0     0    5.16107    0   44    3.88770    5.16107  32.8%     -    0s\n",
      "     0     0    5.14930    0   45    3.88770    5.14930  32.5%     -    0s\n",
      "     0     0    5.14836    0   45    3.88770    5.14836  32.4%     -    0s\n",
      "     0     0    5.02840    0   59    3.88770    5.02840  29.3%     -    0s\n",
      "     0     0    5.01484    0   49    3.88770    5.01484  29.0%     -    0s\n",
      "     0     0    4.80682    0   39    3.88770    4.80682  23.6%     -    0s\n",
      "     0     0    4.80615    0   40    3.88770    4.80615  23.6%     -    0s\n",
      "     0     0    4.79999    0   40    3.88770    4.79999  23.5%     -    0s\n",
      "     0     0    4.75869    0   49    3.88770    4.75869  22.4%     -    0s\n",
      "     0     0    4.71048    0   40    3.88770    4.71048  21.2%     -    0s\n",
      "     0     0    4.70926    0   39    3.88770    4.70926  21.1%     -    0s\n",
      "     0     0    4.70732    0   42    3.88770    4.70732  21.1%     -    0s\n",
      "     0     0    4.70474    0   54    3.88770    4.70474  21.0%     -    0s\n",
      "     0     0    4.70474    0   54    3.88770    4.70474  21.0%     -    0s\n",
      "     0     2    4.70474    0   54    3.88770    4.70474  21.0%     -    0s\n",
      "H  139     6                       3.9172000    4.23213  8.04%  20.3    0s\n",
      "\n",
      "Cutting planes:\n",
      "  Cover: 2\n",
      "  Clique: 5\n",
      "  MIR: 15\n",
      "  GUB cover: 29\n",
      "  Mod-K: 3\n",
      "\n",
      "Explored 192 nodes (3833 simplex iterations) in 0.48 seconds\n",
      "Thread count was 8 (of 8 available processors)\n",
      "\n",
      "Solution count 4: 3.9172 3.8877 3.7977 0.1079 \n",
      "\n",
      "Optimal solution found (tolerance 1.00e-04)\n",
      "Best objective 3.917200000000e+00, best bound 3.917200000000e+00, gap 0.0000%\n",
      "\n",
      "\n",
      " ---- Resulting total radar cross section: 3.9172000000000002 m^2 ----\n",
      "\n",
      "\n",
      "Conducting experiment for iridium-33-debris\n",
      "Preprocessing indices for dynamic three impulse approximation\n"
     ]
    },
    {
     "data": {
      "application/vnd.jupyter.widget-view+json": {
       "model_id": "b9142b745d9645259094af17f9cd8645",
       "version_major": 2,
       "version_minor": 0
      },
      "text/plain": [
       "HBox(children=(IntProgress(value=0, max=304), HTML(value='')))"
      ]
     },
     "metadata": {},
     "output_type": "display_data"
    },
    {
     "name": "stdout",
     "output_type": "stream",
     "text": [
      "\n",
      "Computing cost approximations for dynamic TSP\n"
     ]
    },
    {
     "data": {
      "application/vnd.jupyter.widget-view+json": {
       "model_id": "5b7e58d2e595470bb17b41e2fdf58bf2",
       "version_major": 2,
       "version_minor": 0
      },
      "text/plain": [
       "HBox(children=(IntProgress(value=0, max=303), HTML(value='')))"
      ]
     },
     "metadata": {},
     "output_type": "display_data"
    },
    {
     "name": "stdout",
     "output_type": "stream",
     "text": [
      "\n",
      "Optimize a model with 93 rows, 9331 columns and 43592 nonzeros\n",
      "Variable types: 0 continuous, 9331 integer (9331 binary)\n",
      "Coefficient statistics:\n",
      "  Matrix range     [1e+00, 2e+04]\n",
      "  Objective range  [7e-02, 3e+00]\n",
      "  Bounds range     [1e+00, 1e+00]\n",
      "  RHS range        [1e+03, 1e+03]\n",
      "Found heuristic solution: objective -0.0000000\n",
      "Presolve removed 15 rows and 8285 columns\n",
      "Presolve time: 0.04s\n",
      "Presolved: 78 rows, 1046 columns, 4903 nonzeros\n",
      "Found heuristic solution: objective 0.1079000\n",
      "Variable types: 0 continuous, 1046 integer (1046 binary)\n",
      "\n",
      "Root relaxation: objective 5.175019e+00, 139 iterations, 0.00 seconds\n",
      "\n",
      "    Nodes    |    Current Node    |     Objective Bounds      |     Work\n",
      " Expl Unexpl |  Obj  Depth IntInf | Incumbent    BestBd   Gap | It/Node Time\n",
      "\n",
      "     0     0    5.17502    0   38    0.10790    5.17502  4696%     -    0s\n",
      "H    0     0                       3.7977000    5.17502  36.3%     -    0s\n",
      "H    0     0                       3.8877000    5.17499  33.1%     -    0s\n",
      "     0     0    5.16107    0   44    3.88770    5.16107  32.8%     -    0s\n",
      "     0     0    5.14930    0   45    3.88770    5.14930  32.5%     -    0s\n",
      "     0     0    5.14836    0   45    3.88770    5.14836  32.4%     -    0s\n",
      "     0     0    5.02840    0   59    3.88770    5.02840  29.3%     -    0s\n",
      "     0     0    5.01484    0   49    3.88770    5.01484  29.0%     -    0s\n",
      "     0     0    4.80682    0   39    3.88770    4.80682  23.6%     -    0s\n",
      "     0     0    4.80615    0   40    3.88770    4.80615  23.6%     -    0s\n",
      "     0     0    4.79999    0   40    3.88770    4.79999  23.5%     -    0s\n",
      "     0     0    4.75869    0   49    3.88770    4.75869  22.4%     -    0s\n",
      "     0     0    4.71048    0   40    3.88770    4.71048  21.2%     -    0s\n",
      "     0     0    4.70926    0   39    3.88770    4.70926  21.1%     -    0s\n",
      "     0     0    4.70732    0   42    3.88770    4.70732  21.1%     -    0s\n",
      "     0     0    4.70474    0   54    3.88770    4.70474  21.0%     -    0s\n",
      "     0     0    4.70474    0   54    3.88770    4.70474  21.0%     -    0s\n",
      "     0     2    4.70474    0   54    3.88770    4.70474  21.0%     -    0s\n",
      "H  139     6                       3.9172000    4.23213  8.04%  20.3    0s\n",
      "\n",
      "Cutting planes:\n",
      "  Cover: 2\n",
      "  Clique: 5\n",
      "  MIR: 15\n",
      "  GUB cover: 29\n",
      "  Mod-K: 3\n",
      "\n",
      "Explored 192 nodes (3833 simplex iterations) in 0.40 seconds\n",
      "Thread count was 8 (of 8 available processors)\n",
      "\n",
      "Solution count 4: 3.9172 3.8877 3.7977 0.1079 \n",
      "\n",
      "Optimal solution found (tolerance 1.00e-04)\n",
      "Best objective 3.917200000000e+00, best bound 3.917200000000e+00, gap 0.0000%\n",
      "\n",
      "\n",
      " ---- Resulting total radar cross section: 3.9172000000000002 m^2 ----\n",
      "\n",
      "\n",
      "Conducting experiment for fen-debris\n",
      "Preprocessing indices for dynamic three impulse approximation\n"
     ]
    },
    {
     "data": {
      "application/vnd.jupyter.widget-view+json": {
       "model_id": "f806dbcce3f94d12bac0a322e4a71ecb",
       "version_major": 2,
       "version_minor": 0
      },
      "text/plain": [
       "HBox(children=(IntProgress(value=0, max=2593), HTML(value='')))"
      ]
     },
     "metadata": {},
     "output_type": "display_data"
    },
    {
     "name": "stdout",
     "output_type": "stream",
     "text": [
      "\n",
      "Computing cost approximations for dynamic TSP\n"
     ]
    },
    {
     "data": {
      "application/vnd.jupyter.widget-view+json": {
       "model_id": "232e50e43489460abfae824d9a3843d2",
       "version_major": 2,
       "version_minor": 0
      },
      "text/plain": [
       "HBox(children=(IntProgress(value=0, max=2593), HTML(value='')))"
      ]
     },
     "metadata": {},
     "output_type": "display_data"
    },
    {
     "name": "stdout",
     "output_type": "stream",
     "text": [
      "\n",
      "Optimize a model with 93 rows, 9331 columns and 43592 nonzeros\n",
      "Variable types: 0 continuous, 9331 integer (9331 binary)\n",
      "Coefficient statistics:\n",
      "  Matrix range     [1e+00, 1e+04]\n",
      "  Objective range  [1e-01, 6e-01]\n",
      "  Bounds range     [1e+00, 1e+00]\n",
      "  RHS range        [1e+03, 1e+03]\n",
      "Found heuristic solution: objective -0.0000000\n",
      "Presolve removed 30 rows and 7587 columns\n",
      "Presolve time: 0.05s\n",
      "Presolved: 63 rows, 1744 columns, 8326 nonzeros\n",
      "Found heuristic solution: objective 0.1480000\n",
      "Variable types: 0 continuous, 1744 integer (1744 binary)\n",
      "\n",
      "Root relaxation: objective 2.353670e+00, 326 iterations, 0.01 seconds\n",
      "\n",
      "    Nodes    |    Current Node    |     Objective Bounds      |     Work\n",
      " Expl Unexpl |  Obj  Depth IntInf | Incumbent    BestBd   Gap | It/Node Time\n",
      "\n",
      "     0     0    2.35367    0   29    0.14800    2.35367  1490%     -    0s\n",
      "H    0     0                       1.2080000    2.35367  94.8%     -    0s\n",
      "H    0     0                       1.3975000    2.35367  68.4%     -    0s\n",
      "H    0     0                       2.0179000    2.35367  16.6%     -    0s\n",
      "     0     0    2.35318    0   35    2.01790    2.35318  16.6%     -    0s\n",
      "H    0     0                       2.2009000    2.35318  6.92%     -    0s\n",
      "     0     0    2.35317    0   34    2.20090    2.35317  6.92%     -    0s\n",
      "     0     0    2.35305    0   35    2.20090    2.35305  6.91%     -    0s\n",
      "H    0     0                       2.2832000    2.35305  3.06%     -    0s\n",
      "     0     0    2.35300    0   39    2.28320    2.35300  3.06%     -    0s\n",
      "     0     0    2.35252    0   45    2.28320    2.35252  3.04%     -    0s\n",
      "     0     0    2.35247    0   35    2.28320    2.35247  3.03%     -    0s\n",
      "     0     0    2.35146    0   43    2.28320    2.35146  2.99%     -    0s\n",
      "     0     0    2.35138    0   43    2.28320    2.35138  2.99%     -    0s\n",
      "     0     0    2.35033    0   45    2.28320    2.35033  2.94%     -    0s\n",
      "     0     0    2.35031    0   49    2.28320    2.35031  2.94%     -    0s\n",
      "     0     0    2.34883    0   46    2.28320    2.34883  2.87%     -    0s\n",
      "     0     0    2.34718    0   20    2.28320    2.34718  2.80%     -    0s\n",
      "     0     0    2.34611    0   24    2.28320    2.34611  2.76%     -    0s\n",
      "     0     0    2.34587    0   23    2.28320    2.34587  2.74%     -    0s\n",
      "H    0     0                       2.3149000    2.34587  1.34%     -    0s\n",
      "     0     0    2.34554    0   29    2.31490    2.34554  1.32%     -    0s\n",
      "     0     0    2.34539    0   30    2.31490    2.34539  1.32%     -    0s\n",
      "     0     0    2.34198    0   40    2.31490    2.34198  1.17%     -    0s\n",
      "     0     0    2.34198    0   15    2.31490    2.34198  1.17%     -    0s\n",
      "     0     0    2.34198    0   18    2.31490    2.34198  1.17%     -    0s\n",
      "     0     0    2.34198    0   25    2.31490    2.34198  1.17%     -    0s\n",
      "H    0     0                       2.3232000    2.34198  0.81%     -    0s\n",
      "     0     0    2.34198    0   17    2.32320    2.34198  0.81%     -    0s\n",
      "     0     0    2.33890    0   16    2.32320    2.33890  0.68%     -    0s\n",
      "     0     0    2.33198    0   18    2.32320    2.33198  0.38%     -    0s\n",
      "     0     0    2.33197    0   18    2.32320    2.33197  0.38%     -    0s\n",
      "     0     0     cutoff    0         2.32320    2.32320  0.00%     -    0s\n",
      "\n",
      "Cutting planes:\n",
      "  Gomory: 2\n",
      "  Clique: 4\n",
      "  GUB cover: 8\n",
      "  Zero half: 1\n",
      "\n",
      "Explored 1 nodes (1304 simplex iterations) in 0.59 seconds\n",
      "Thread count was 8 (of 8 available processors)\n",
      "\n",
      "Solution count 8: 2.3232 2.3149 2.2832 ... 0.148\n",
      "\n",
      "Optimal solution found (tolerance 1.00e-04)\n",
      "Best objective 2.323200000000e+00, best bound 2.323200000000e+00, gap 0.0000%\n",
      "\n",
      "\n",
      " ---- Resulting total radar cross section: 2.3232 m^2 ----\n",
      "\n",
      "\n"
     ]
    }
   ],
   "source": [
    "MAX_DEBRIS = 30\n",
    "BUDGET = 1000\n",
    "\n",
    "# julian date from 2000\n",
    "START_DAY = 7350\n",
    "\n",
    "# number of possible transfer points\n",
    "EPOCHS = 10\n",
    "\n",
    "# number of days between transfers\n",
    "STEP_SIZE = 7\n",
    "\n",
    "# time needed for a transfer, here 1 week\n",
    "TRANSFER_DURATION = 1\n",
    "\n",
    "\n",
    "for path in ALL_PATHS_TLE:\n",
    "    print(\"Conducting experiment for \" + path[5:][:-4])\n",
    "    A, P, par = data_processing.compute_dynamic_TSP_instance(SATCAT_PATH = \"data/satcat.txt\", TLE_PATH = path, startDay = START_DAY, nEpochs = EPOCHS, step_size = STEP_SIZE, nMaxNodes = MAX_DEBRIS)\n",
    "    res = mips_dynamic.TSP_dynamic(A, P, transfer_duration = TRANSFER_DURATION, budget = BUDGET, SEC_TYPE = \"DT1\")\n",
    "    print(\"\\n\\n ---- Resulting total radar cross section: \" + str(res.objVal) + \" m^2 ----\\n\\n\")"
   ]
  },
  {
   "cell_type": "markdown",
   "metadata": {},
   "source": [
    "# Experiment 5: Vary time parameters for dynamic TSP"
   ]
  },
  {
   "cell_type": "markdown",
   "metadata": {},
   "source": [
    "All parameters can be varied and yield different results based on the mission design choice."
   ]
  },
  {
   "cell_type": "code",
   "execution_count": 8,
   "metadata": {},
   "outputs": [
    {
     "name": "stdout",
     "output_type": "stream",
     "text": [
      "Conducting experiment for fen-debris\n",
      "Preprocessing indices for dynamic three impulse approximation\n"
     ]
    },
    {
     "data": {
      "application/vnd.jupyter.widget-view+json": {
       "model_id": "c532c3a1b4da49f8b284a6b6f595522f",
       "version_major": 2,
       "version_minor": 0
      },
      "text/plain": [
       "HBox(children=(IntProgress(value=0, max=304), HTML(value='')))"
      ]
     },
     "metadata": {},
     "output_type": "display_data"
    },
    {
     "name": "stdout",
     "output_type": "stream",
     "text": [
      "\n",
      "Computing cost approximations for dynamic TSP\n"
     ]
    },
    {
     "data": {
      "application/vnd.jupyter.widget-view+json": {
       "model_id": "33c09ca5355b44a4a568be85f94ee418",
       "version_major": 2,
       "version_minor": 0
      },
      "text/plain": [
       "HBox(children=(IntProgress(value=0, max=303), HTML(value='')))"
      ]
     },
     "metadata": {},
     "output_type": "display_data"
    },
    {
     "name": "stdout",
     "output_type": "stream",
     "text": [
      "\n",
      "Optimize a model with 93 rows, 9331 columns and 43592 nonzeros\n",
      "Variable types: 0 continuous, 9331 integer (9331 binary)\n",
      "Coefficient statistics:\n",
      "  Matrix range     [1e+00, 2e+04]\n",
      "  Objective range  [7e-02, 3e+00]\n",
      "  Bounds range     [1e+00, 1e+00]\n",
      "  RHS range        [1e+03, 1e+03]\n",
      "Found heuristic solution: objective -0.0000000\n",
      "Presolve removed 15 rows and 8285 columns\n",
      "Presolve time: 0.04s\n",
      "Presolved: 78 rows, 1046 columns, 4903 nonzeros\n",
      "Found heuristic solution: objective 0.1079000\n",
      "Variable types: 0 continuous, 1046 integer (1046 binary)\n",
      "\n",
      "Root relaxation: objective 5.175019e+00, 139 iterations, 0.00 seconds\n",
      "\n",
      "    Nodes    |    Current Node    |     Objective Bounds      |     Work\n",
      " Expl Unexpl |  Obj  Depth IntInf | Incumbent    BestBd   Gap | It/Node Time\n",
      "\n",
      "     0     0    5.17502    0   38    0.10790    5.17502  4696%     -    0s\n",
      "H    0     0                       3.7977000    5.17502  36.3%     -    0s\n",
      "H    0     0                       3.8877000    5.17499  33.1%     -    0s\n",
      "     0     0    5.16107    0   44    3.88770    5.16107  32.8%     -    0s\n",
      "     0     0    5.14930    0   45    3.88770    5.14930  32.5%     -    0s\n",
      "     0     0    5.14836    0   45    3.88770    5.14836  32.4%     -    0s\n",
      "     0     0    5.02840    0   59    3.88770    5.02840  29.3%     -    0s\n",
      "     0     0    5.01484    0   49    3.88770    5.01484  29.0%     -    0s\n",
      "     0     0    4.80682    0   39    3.88770    4.80682  23.6%     -    0s\n",
      "     0     0    4.80615    0   40    3.88770    4.80615  23.6%     -    0s\n",
      "     0     0    4.79999    0   40    3.88770    4.79999  23.5%     -    0s\n",
      "     0     0    4.75869    0   49    3.88770    4.75869  22.4%     -    0s\n",
      "     0     0    4.71048    0   40    3.88770    4.71048  21.2%     -    0s\n",
      "     0     0    4.70926    0   39    3.88770    4.70926  21.1%     -    0s\n",
      "     0     0    4.70732    0   42    3.88770    4.70732  21.1%     -    0s\n",
      "     0     0    4.70474    0   54    3.88770    4.70474  21.0%     -    0s\n",
      "     0     0    4.70474    0   54    3.88770    4.70474  21.0%     -    0s\n",
      "     0     2    4.70474    0   54    3.88770    4.70474  21.0%     -    0s\n",
      "H  139     6                       3.9172000    4.23213  8.04%  20.3    0s\n",
      "\n",
      "Cutting planes:\n",
      "  Cover: 2\n",
      "  Clique: 5\n",
      "  MIR: 15\n",
      "  GUB cover: 29\n",
      "  Mod-K: 3\n",
      "\n",
      "Explored 192 nodes (3833 simplex iterations) in 0.53 seconds\n",
      "Thread count was 8 (of 8 available processors)\n",
      "\n",
      "Solution count 4: 3.9172 3.8877 3.7977 0.1079 \n",
      "\n",
      "Optimal solution found (tolerance 1.00e-04)\n",
      "Best objective 3.917200000000e+00, best bound 3.917200000000e+00, gap 0.0000%\n",
      "\n",
      "\n",
      " ---- Resulting total radar cross section: 3.9172000000000002 m^2 ----\n",
      "\n",
      "\n",
      "Conducting experiment for fen-debris\n",
      "Preprocessing indices for dynamic three impulse approximation\n"
     ]
    },
    {
     "data": {
      "application/vnd.jupyter.widget-view+json": {
       "model_id": "6dc8662e67724fd1b99088719f806461",
       "version_major": 2,
       "version_minor": 0
      },
      "text/plain": [
       "HBox(children=(IntProgress(value=0, max=304), HTML(value='')))"
      ]
     },
     "metadata": {},
     "output_type": "display_data"
    },
    {
     "name": "stdout",
     "output_type": "stream",
     "text": [
      "\n",
      "Computing cost approximations for dynamic TSP\n"
     ]
    },
    {
     "data": {
      "application/vnd.jupyter.widget-view+json": {
       "model_id": "6d9333b665d04e2ab7e00e2360a99cff",
       "version_major": 2,
       "version_minor": 0
      },
      "text/plain": [
       "HBox(children=(IntProgress(value=0, max=303), HTML(value='')))"
      ]
     },
     "metadata": {},
     "output_type": "display_data"
    },
    {
     "name": "stdout",
     "output_type": "stream",
     "text": [
      "\n",
      "Optimize a model with 93 rows, 9331 columns and 43592 nonzeros\n",
      "Variable types: 0 continuous, 9331 integer (9331 binary)\n",
      "Coefficient statistics:\n",
      "  Matrix range     [1e+00, 2e+04]\n",
      "  Objective range  [7e-02, 3e+00]\n",
      "  Bounds range     [1e+00, 1e+00]\n",
      "  RHS range        [1e+03, 1e+03]\n",
      "Found heuristic solution: objective -0.0000000\n",
      "Presolve removed 15 rows and 8598 columns\n",
      "Presolve time: 0.06s\n",
      "Presolved: 78 rows, 733 columns, 3287 nonzeros\n",
      "Found heuristic solution: objective 0.1079000\n",
      "Variable types: 0 continuous, 733 integer (733 binary)\n",
      "\n",
      "Root relaxation: objective 4.400690e+00, 203 iterations, 0.00 seconds\n",
      "\n",
      "    Nodes    |    Current Node    |     Objective Bounds      |     Work\n",
      " Expl Unexpl |  Obj  Depth IntInf | Incumbent    BestBd   Gap | It/Node Time\n",
      "\n",
      "     0     0    4.40069    0   21    0.10790    4.40069  3978%     -    0s\n",
      "H    0     0                       3.7977000    4.40069  15.9%     -    0s\n",
      "     0     0    4.18151    0   25    3.79770    4.18151  10.1%     -    0s\n",
      "H    0     0                       3.8877000    4.18151  7.56%     -    0s\n",
      "     0     0    4.14970    0   21    3.88770    4.14970  6.74%     -    0s\n",
      "     0     0    4.14931    0   21    3.88770    4.14931  6.73%     -    0s\n",
      "     0     0    4.09763    0   31    3.88770    4.09763  5.40%     -    0s\n",
      "H    0     0                       3.9172000    4.09763  4.61%     -    0s\n",
      "     0     0    4.06772    0   32    3.91720    4.06772  3.84%     -    0s\n",
      "     0     0    4.06581    0   39    3.91720    4.06581  3.79%     -    0s\n",
      "     0     0    4.04125    0   48    3.91720    4.04125  3.17%     -    0s\n",
      "     0     0    4.04125    0   22    3.91720    4.04125  3.17%     -    0s\n",
      "     0     0    4.00282    0   27    3.91720    4.00282  2.19%     -    0s\n",
      "     0     0    3.98729    0   33    3.91720    3.98729  1.79%     -    0s\n",
      "     0     0    3.98418    0   32    3.91720    3.98418  1.71%     -    0s\n",
      "     0     0    3.98363    0   35    3.91720    3.98363  1.70%     -    0s\n",
      "     0     0    3.96736    0   36    3.91720    3.96736  1.28%     -    0s\n",
      "\n",
      "Cutting planes:\n",
      "  Gomory: 5\n",
      "  Cover: 2\n",
      "  Clique: 9\n",
      "  MIR: 4\n",
      "  GUB cover: 4\n",
      "\n",
      "Explored 1 nodes (1056 simplex iterations) in 0.27 seconds\n",
      "Thread count was 8 (of 8 available processors)\n",
      "\n",
      "Solution count 4: 3.9172 3.8877 3.7977 0.1079 \n",
      "\n",
      "Optimal solution found (tolerance 1.00e-04)\n",
      "Best objective 3.917200000000e+00, best bound 3.917200000000e+00, gap 0.0000%\n",
      "\n",
      "\n",
      " ---- Resulting total radar cross section: 3.9172000000000002 m^2 ----\n",
      "\n",
      "\n",
      "Conducting experiment for fen-debris\n",
      "Preprocessing indices for dynamic three impulse approximation\n"
     ]
    },
    {
     "data": {
      "application/vnd.jupyter.widget-view+json": {
       "model_id": "6087489c1d7d475c84383b20856886ee",
       "version_major": 2,
       "version_minor": 0
      },
      "text/plain": [
       "HBox(children=(IntProgress(value=0, max=304), HTML(value='')))"
      ]
     },
     "metadata": {},
     "output_type": "display_data"
    },
    {
     "name": "stdout",
     "output_type": "stream",
     "text": [
      "\n",
      "Computing cost approximations for dynamic TSP\n"
     ]
    },
    {
     "data": {
      "application/vnd.jupyter.widget-view+json": {
       "model_id": "7b59d333fb164e3e980f4d2303ec8025",
       "version_major": 2,
       "version_minor": 0
      },
      "text/plain": [
       "HBox(children=(IntProgress(value=0, max=303), HTML(value='')))"
      ]
     },
     "metadata": {},
     "output_type": "display_data"
    },
    {
     "name": "stdout",
     "output_type": "stream",
     "text": [
      "\n",
      "Optimize a model with 93 rows, 13981 columns and 66242 nonzeros\n",
      "Variable types: 0 continuous, 13981 integer (13981 binary)\n",
      "Coefficient statistics:\n",
      "  Matrix range     [1e+00, 2e+04]\n",
      "  Objective range  [7e-02, 3e+00]\n",
      "  Bounds range     [1e+00, 1e+00]\n",
      "  RHS range        [1e+03, 1e+03]\n",
      "Found heuristic solution: objective -0.0000000\n",
      "Presolve removed 15 rows and 12354 columns\n",
      "Presolve time: 0.05s\n",
      "Presolved: 78 rows, 1627 columns, 7808 nonzeros\n",
      "Found heuristic solution: objective 0.1079000\n",
      "Variable types: 0 continuous, 1627 integer (1627 binary)\n",
      "\n",
      "Root relaxation: objective 5.407475e+00, 160 iterations, 0.00 seconds\n",
      "\n",
      "    Nodes    |    Current Node    |     Objective Bounds      |     Work\n",
      " Expl Unexpl |  Obj  Depth IntInf | Incumbent    BestBd   Gap | It/Node Time\n",
      "\n",
      "     0     0    5.40748    0   43    0.10790    5.40748  4912%     -    0s\n",
      "H    0     0                       3.8877000    5.40748  39.1%     -    0s\n",
      "     0     0    5.38721    0   47    3.88770    5.38721  38.6%     -    0s\n",
      "     0     0    5.38575    0   48    3.88770    5.38575  38.5%     -    0s\n",
      "     0     0    5.35721    0   56    3.88770    5.35721  37.8%     -    0s\n",
      "     0     0    5.35642    0   57    3.88770    5.35642  37.8%     -    0s\n",
      "     0     0    5.05256    0   58    3.88770    5.05256  30.0%     -    0s\n",
      "     0     0    5.04995    0   56    3.88770    5.04995  29.9%     -    0s\n",
      "     0     0    5.04492    0   61    3.88770    5.04492  29.8%     -    0s\n",
      "     0     0    5.04312    0   60    3.88770    5.04312  29.7%     -    0s\n",
      "     0     0    5.04199    0   63    3.88770    5.04199  29.7%     -    0s\n",
      "     0     0    4.89080    0   54    3.88770    4.89080  25.8%     -    0s\n",
      "     0     0    4.89048    0   55    3.88770    4.89048  25.8%     -    0s\n",
      "     0     0    4.84145    0   54    3.88770    4.84145  24.5%     -    0s\n",
      "     0     0    4.84114    0   55    3.88770    4.84114  24.5%     -    0s\n",
      "     0     0    4.82887    0   53    3.88770    4.82887  24.2%     -    0s\n",
      "     0     0    4.82866    0   45    3.88770    4.82866  24.2%     -    0s\n",
      "     0     0    4.82657    0   63    3.88770    4.82657  24.1%     -    0s\n",
      "     0     0    4.82657    0   63    3.88770    4.82657  24.1%     -    0s\n",
      "     0     2    4.82657    0   63    3.88770    4.82657  24.1%     -    0s\n",
      "H   29     8                       3.8877008    4.70890  21.1%  33.4    0s\n",
      "H  194    44                       3.9172000    4.38033  11.8%  20.1    0s\n",
      "\n",
      "Cutting planes:\n",
      "  Cover: 2\n",
      "  Clique: 4\n",
      "  MIR: 13\n",
      "  StrongCG: 1\n",
      "  GUB cover: 42\n",
      "  Zero half: 1\n",
      "\n",
      "Explored 313 nodes (5895 simplex iterations) in 0.77 seconds\n",
      "Thread count was 8 (of 8 available processors)\n",
      "\n",
      "Solution count 4: 3.9172 3.8877 3.8877 0.1079 \n",
      "\n",
      "Optimal solution found (tolerance 1.00e-04)\n",
      "Best objective 3.917200000000e+00, best bound 3.917200000000e+00, gap 0.0000%\n",
      "\n",
      "\n",
      " ---- Resulting total radar cross section: 3.9172000000000002 m^2 ----\n",
      "\n",
      "\n",
      "Conducting experiment for fen-debris\n",
      "Preprocessing indices for dynamic three impulse approximation\n"
     ]
    },
    {
     "data": {
      "application/vnd.jupyter.widget-view+json": {
       "model_id": "1cd35155263a4395a0bf87a595f47231",
       "version_major": 2,
       "version_minor": 0
      },
      "text/plain": [
       "HBox(children=(IntProgress(value=0, max=304), HTML(value='')))"
      ]
     },
     "metadata": {},
     "output_type": "display_data"
    },
    {
     "name": "stdout",
     "output_type": "stream",
     "text": [
      "\n",
      "Computing cost approximations for dynamic TSP\n"
     ]
    },
    {
     "data": {
      "application/vnd.jupyter.widget-view+json": {
       "model_id": "2d0e7d12d642408381ac1717a30598f9",
       "version_major": 2,
       "version_minor": 0
      },
      "text/plain": [
       "HBox(children=(IntProgress(value=0, max=303), HTML(value='')))"
      ]
     },
     "metadata": {},
     "output_type": "display_data"
    },
    {
     "name": "stdout",
     "output_type": "stream",
     "text": [
      "\n",
      "Optimize a model with 93 rows, 13981 columns and 66242 nonzeros\n",
      "Variable types: 0 continuous, 13981 integer (13981 binary)\n",
      "Coefficient statistics:\n",
      "  Matrix range     [1e+00, 2e+04]\n",
      "  Objective range  [7e-02, 3e+00]\n",
      "  Bounds range     [1e+00, 1e+00]\n",
      "  RHS range        [1e+03, 1e+03]\n",
      "Found heuristic solution: objective -0.0000000\n",
      "Presolve removed 15 rows and 12593 columns\n",
      "Presolve time: 0.05s\n",
      "Presolved: 78 rows, 1388 columns, 6591 nonzeros\n",
      "Found heuristic solution: objective 0.1079000\n",
      "Variable types: 0 continuous, 1388 integer (1388 binary)\n",
      "\n",
      "Root relaxation: objective 4.965208e+00, 200 iterations, 0.00 seconds\n",
      "\n",
      "    Nodes    |    Current Node    |     Objective Bounds      |     Work\n",
      " Expl Unexpl |  Obj  Depth IntInf | Incumbent    BestBd   Gap | It/Node Time\n",
      "\n",
      "     0     0    4.96521    0   30    0.10790    4.96521  4502%     -    0s\n",
      "H    0     0                       0.9165000    4.96521   442%     -    0s\n",
      "H    0     0                       3.8877000    4.96521  27.7%     -    0s\n",
      "     0     0    4.95778    0   34    3.88770    4.95778  27.5%     -    0s\n",
      "     0     0    4.95752    0   35    3.88770    4.95752  27.5%     -    0s\n",
      "     0     0    4.83328    0   51    3.88770    4.83328  24.3%     -    0s\n",
      "     0     0    4.79805    0   36    3.88770    4.79805  23.4%     -    0s\n",
      "     0     0    4.68699    0   38    3.88770    4.68699  20.6%     -    0s\n",
      "     0     0    4.68128    0   37    3.88770    4.68128  20.4%     -    0s\n",
      "     0     0    4.68063    0   35    3.88770    4.68063  20.4%     -    0s\n",
      "     0     0    4.68024    0   36    3.88770    4.68024  20.4%     -    0s\n",
      "     0     0    4.63903    0   54    3.88770    4.63903  19.3%     -    0s\n",
      "     0     0    4.63829    0   56    3.88770    4.63829  19.3%     -    0s\n",
      "     0     0    4.63820    0   58    3.88770    4.63820  19.3%     -    0s\n",
      "     0     0    4.62866    0   60    3.88770    4.62866  19.1%     -    0s\n",
      "     0     0    4.62763    0   59    3.88770    4.62763  19.0%     -    0s\n",
      "     0     0    4.62748    0   60    3.88770    4.62748  19.0%     -    0s\n",
      "     0     0    4.62067    0   59    3.88770    4.62067  18.9%     -    0s\n",
      "     0     0    4.62056    0   62    3.88770    4.62056  18.9%     -    0s\n",
      "     0     0    4.61339    0   69    3.88770    4.61339  18.7%     -    0s\n",
      "     0     0    4.61230    0   70    3.88770    4.61230  18.6%     -    0s\n",
      "     0     0    4.61228    0   72    3.88770    4.61228  18.6%     -    0s\n",
      "H    0     0                       3.9172000    4.61228  17.7%     -    0s\n",
      "     0     0    4.61184    0   72    3.91720    4.61184  17.7%     -    0s\n",
      "     0     0    4.61184    0   72    3.91720    4.61184  17.7%     -    0s\n",
      "     0     0    4.61184    0   30    3.91720    4.61184  17.7%     -    0s\n",
      "     0     0    4.61184    0   41    3.91720    4.61184  17.7%     -    0s\n",
      "     0     0    4.61184    0   53    3.91720    4.61184  17.7%     -    0s\n",
      "     0     0    4.61184    0   63    3.91720    4.61184  17.7%     -    0s\n",
      "     0     0    4.61184    0   64    3.91720    4.61184  17.7%     -    0s\n",
      "     0     0    4.61184    0   64    3.91720    4.61184  17.7%     -    0s\n",
      "     0     0    4.61184    0   69    3.91720    4.61184  17.7%     -    0s\n",
      "     0     0    4.61184    0   70    3.91720    4.61184  17.7%     -    0s\n",
      "     0     0    4.60532    0   67    3.91720    4.60532  17.6%     -    0s\n",
      "     0     0    4.60462    0   63    3.91720    4.60462  17.5%     -    0s\n",
      "     0     0    4.60456    0   63    3.91720    4.60456  17.5%     -    0s\n",
      "     0     0    4.59760    0   66    3.91720    4.59760  17.4%     -    0s\n",
      "     0     0    4.59737    0   68    3.91720    4.59737  17.4%     -    0s\n",
      "     0     0    4.59712    0   69    3.91720    4.59712  17.4%     -    0s\n",
      "     0     0    4.59712    0   69    3.91720    4.59712  17.4%     -    0s\n",
      "     0     2    4.59712    0   69    3.91720    4.59712  17.4%     -    0s\n",
      "\n",
      "Cutting planes:\n",
      "  Cover: 8\n",
      "  Clique: 17\n",
      "  MIR: 14\n",
      "  StrongCG: 1\n",
      "  GUB cover: 28\n",
      "  Zero half: 1\n",
      "  Mod-K: 1\n",
      "\n",
      "Explored 223 nodes (6161 simplex iterations) in 1.07 seconds\n",
      "Thread count was 8 (of 8 available processors)\n",
      "\n",
      "Solution count 4: 3.9172 3.8877 0.9165 0.1079 \n",
      "\n",
      "Optimal solution found (tolerance 1.00e-04)\n",
      "Best objective 3.917200000000e+00, best bound 3.917200000000e+00, gap 0.0000%\n",
      "\n",
      "\n",
      " ---- Resulting total radar cross section: 3.9172000000000002 m^2 ----\n",
      "\n",
      "\n",
      "Conducting experiment for fen-debris\n",
      "Preprocessing indices for dynamic three impulse approximation\n"
     ]
    },
    {
     "data": {
      "application/vnd.jupyter.widget-view+json": {
       "model_id": "59a72e5b2f39405689bba6c83a68efec",
       "version_major": 2,
       "version_minor": 0
      },
      "text/plain": [
       "HBox(children=(IntProgress(value=0, max=304), HTML(value='')))"
      ]
     },
     "metadata": {},
     "output_type": "display_data"
    },
    {
     "name": "stdout",
     "output_type": "stream",
     "text": [
      "\n",
      "Computing cost approximations for dynamic TSP\n"
     ]
    },
    {
     "data": {
      "application/vnd.jupyter.widget-view+json": {
       "model_id": "34b0c118280b4bc3b13ba2f53596ad40",
       "version_major": 2,
       "version_minor": 0
      },
      "text/plain": [
       "HBox(children=(IntProgress(value=0, max=303), HTML(value='')))"
      ]
     },
     "metadata": {},
     "output_type": "display_data"
    },
    {
     "name": "stdout",
     "output_type": "stream",
     "text": [
      "\n",
      "Optimize a model with 93 rows, 18631 columns and 88892 nonzeros\n",
      "Variable types: 0 continuous, 18631 integer (18631 binary)\n",
      "Coefficient statistics:\n",
      "  Matrix range     [1e+00, 2e+04]\n",
      "  Objective range  [7e-02, 3e+00]\n",
      "  Bounds range     [1e+00, 1e+00]\n",
      "  RHS range        [1e+03, 1e+03]\n",
      "Found heuristic solution: objective -0.0000000\n",
      "Presolve removed 15 rows and 16439 columns\n",
      "Presolve time: 0.07s\n",
      "Presolved: 78 rows, 2192 columns, 10633 nonzeros\n",
      "Found heuristic solution: objective 0.1079000\n",
      "Variable types: 0 continuous, 2192 integer (2192 binary)\n",
      "\n",
      "Root relaxation: objective 5.535480e+00, 158 iterations, 0.00 seconds\n",
      "\n",
      "    Nodes    |    Current Node    |     Objective Bounds      |     Work\n",
      " Expl Unexpl |  Obj  Depth IntInf | Incumbent    BestBd   Gap | It/Node Time\n",
      "\n",
      "     0     0    5.53548    0   41    0.10790    5.53548  5030%     -    0s\n",
      "H    0     0                       3.8877000    5.53548  42.4%     -    0s\n",
      "     0     0    5.52354    0   43    3.88770    5.52354  42.1%     -    0s\n",
      "     0     0    5.52243    0   48    3.88770    5.52243  42.0%     -    0s\n",
      "     0     0    5.50355    0   49    3.88770    5.50355  41.6%     -    0s\n",
      "     0     0    5.50288    0   51    3.88770    5.50288  41.5%     -    0s\n",
      "     0     0    5.29915    0   53    3.88770    5.29915  36.3%     -    0s\n",
      "     0     0    5.29608    0   56    3.88770    5.29608  36.2%     -    0s\n",
      "     0     0    5.27957    0   58    3.88770    5.27957  35.8%     -    0s\n",
      "     0     0    5.27774    0   58    3.88770    5.27774  35.8%     -    0s\n",
      "     0     0    5.00774    0   59    3.88770    5.00774  28.8%     -    0s\n",
      "     0     0    5.00350    0   57    3.88770    5.00350  28.7%     -    0s\n",
      "     0     0    5.00331    0   59    3.88770    5.00331  28.7%     -    0s\n",
      "     0     0    4.82208    0   51    3.88770    4.82208  24.0%     -    0s\n",
      "     0     0    4.82070    0   57    3.88770    4.82070  24.0%     -    0s\n",
      "     0     0    4.82059    0   53    3.88770    4.82059  24.0%     -    0s\n",
      "     0     0    4.81389    0   56    3.88770    4.81389  23.8%     -    0s\n",
      "     0     0    4.81389    0   56    3.88770    4.81389  23.8%     -    0s\n",
      "     0     2    4.81389    0   56    3.88770    4.81389  23.8%     -    0s\n",
      "H  289    39                       3.9622000    4.38450  10.7%  19.9    0s\n",
      "\n",
      "Cutting planes:\n",
      "  Cover: 7\n",
      "  Clique: 4\n",
      "  MIR: 17\n",
      "  StrongCG: 2\n",
      "  GUB cover: 40\n",
      "  Inf proof: 1\n",
      "  Zero half: 5\n",
      "\n",
      "Explored 436 nodes (8589 simplex iterations) in 0.91 seconds\n",
      "Thread count was 8 (of 8 available processors)\n",
      "\n",
      "Solution count 3: 3.9622 3.8877 0.1079 \n",
      "\n",
      "Optimal solution found (tolerance 1.00e-04)\n",
      "Best objective 3.962200000000e+00, best bound 3.962200000000e+00, gap 0.0000%\n",
      "\n",
      "\n",
      " ---- Resulting total radar cross section: 3.9622 m^2 ----\n",
      "\n",
      "\n",
      "Conducting experiment for fen-debris\n",
      "Preprocessing indices for dynamic three impulse approximation\n"
     ]
    },
    {
     "data": {
      "application/vnd.jupyter.widget-view+json": {
       "model_id": "1e13984ad76b40f5bf49df43b948e1ed",
       "version_major": 2,
       "version_minor": 0
      },
      "text/plain": [
       "HBox(children=(IntProgress(value=0, max=304), HTML(value='')))"
      ]
     },
     "metadata": {},
     "output_type": "display_data"
    },
    {
     "name": "stdout",
     "output_type": "stream",
     "text": [
      "\n",
      "Computing cost approximations for dynamic TSP\n"
     ]
    },
    {
     "data": {
      "application/vnd.jupyter.widget-view+json": {
       "model_id": "69cb92836329446e88bd906b36622e59",
       "version_major": 2,
       "version_minor": 0
      },
      "text/plain": [
       "HBox(children=(IntProgress(value=0, max=303), HTML(value='')))"
      ]
     },
     "metadata": {},
     "output_type": "display_data"
    },
    {
     "name": "stdout",
     "output_type": "stream",
     "text": [
      "\n",
      "Optimize a model with 93 rows, 18631 columns and 88892 nonzeros\n",
      "Variable types: 0 continuous, 18631 integer (18631 binary)\n",
      "Coefficient statistics:\n",
      "  Matrix range     [1e+00, 2e+04]\n",
      "  Objective range  [7e-02, 3e+00]\n",
      "  Bounds range     [1e+00, 1e+00]\n",
      "  RHS range        [1e+03, 1e+03]\n",
      "Found heuristic solution: objective -0.0000000\n",
      "Presolve removed 15 rows and 16675 columns\n",
      "Presolve time: 0.08s\n",
      "Presolved: 78 rows, 1956 columns, 9451 nonzeros\n",
      "Found heuristic solution: objective 0.1079000\n",
      "Variable types: 0 continuous, 1956 integer (1956 binary)\n",
      "\n",
      "Root relaxation: objective 5.286694e+00, 189 iterations, 0.01 seconds\n",
      "\n",
      "    Nodes    |    Current Node    |     Objective Bounds      |     Work\n",
      " Expl Unexpl |  Obj  Depth IntInf | Incumbent    BestBd   Gap | It/Node Time\n",
      "\n",
      "     0     0    5.28669    0   38    0.10790    5.28669  4800%     -    0s\n",
      "H    0     0                       1.0553000    5.28669   401%     -    0s\n",
      "H    0     0                       1.2787000    5.28669   313%     -    0s\n",
      "H    0     0                       3.8877000    5.28471  35.9%     -    0s\n",
      "     0     0    5.26673    0   48    3.88770    5.26673  35.5%     -    0s\n",
      "     0     0    5.26596    0   47    3.88770    5.26596  35.5%     -    0s\n",
      "     0     0    5.24188    0   55    3.88770    5.24188  34.8%     -    0s\n",
      "     0     0    5.23653    0   53    3.88770    5.23653  34.7%     -    0s\n",
      "     0     0    5.22320    0   59    3.88770    5.22320  34.4%     -    0s\n",
      "     0     0    5.22247    0   58    3.88770    5.22247  34.3%     -    0s\n",
      "     0     0    5.05306    0   46    3.88770    5.05306  30.0%     -    0s\n",
      "     0     0    5.05299    0   48    3.88770    5.05299  30.0%     -    0s\n",
      "     0     0    5.03710    0   60    3.88770    5.03710  29.6%     -    0s\n",
      "     0     0    5.03685    0   62    3.88770    5.03685  29.6%     -    0s\n",
      "     0     0    5.03172    0   58    3.88770    5.03172  29.4%     -    0s\n",
      "     0     0    5.02868    0   60    3.88770    5.02868  29.3%     -    0s\n",
      "     0     0    5.02833    0   62    3.88770    5.02833  29.3%     -    0s\n",
      "     0     0    5.02744    0   64    3.88770    5.02744  29.3%     -    0s\n",
      "     0     0    5.02429    0   61    3.88770    5.02429  29.2%     -    0s\n",
      "     0     0    5.02410    0   62    3.88770    5.02410  29.2%     -    0s\n",
      "     0     0    5.01241    0   61    3.88770    5.01241  28.9%     -    0s\n",
      "     0     0    5.00763    0   73    3.88770    5.00763  28.8%     -    0s\n",
      "     0     0    5.00662    0   81    3.88770    5.00662  28.8%     -    0s\n",
      "     0     0    5.00640    0   83    3.88770    5.00640  28.8%     -    0s\n",
      "     0     0    5.00052    0   83    3.88770    5.00052  28.6%     -    0s\n",
      "     0     0    5.00031    0   83    3.88770    5.00031  28.6%     -    0s\n",
      "     0     0    4.99832    0   81    3.88770    4.99832  28.6%     -    0s\n",
      "     0     0    4.99832    0   81    3.88770    4.99832  28.6%     -    0s\n",
      "     0     2    4.99832    0   81    3.88770    4.99832  28.6%     -    0s\n",
      "H  543    74                       3.9172000    4.22916  7.96%  18.2    1s\n",
      "\n",
      "Cutting planes:\n",
      "  Clique: 6\n",
      "  MIR: 16\n",
      "  StrongCG: 7\n",
      "  GUB cover: 54\n",
      "  Zero half: 5\n",
      "\n",
      "Explored 708 nodes (11765 simplex iterations) in 1.99 seconds\n",
      "Thread count was 8 (of 8 available processors)\n",
      "\n",
      "Solution count 5: 3.9172 3.8877 1.2787 ... 0.1079\n",
      "\n",
      "Optimal solution found (tolerance 1.00e-04)\n",
      "Best objective 3.917200000000e+00, best bound 3.917200000000e+00, gap 0.0000%\n",
      "\n",
      "\n",
      " ---- Resulting total radar cross section: 3.9172000000000002 m^2 ----\n",
      "\n",
      "\n"
     ]
    }
   ],
   "source": [
    "MAX_DEBRIS = 30\n",
    "BUDGET = 1000\n",
    "\n",
    "# julian date from 2000\n",
    "START_DAY = 7350\n",
    "\n",
    "# number of days between transfers\n",
    "STEP_SIZE = 7\n",
    "\n",
    "for nEpochs in [10,15,20]:\n",
    "    for transfer_dur in [1,2]:\n",
    "    \n",
    "        print(\"Conducting experiment for \" + path[5:][:-4])\n",
    "        A, P, par = data_processing.compute_dynamic_TSP_instance(SATCAT_PATH = \"data/satcat.txt\", TLE_PATH = PATH_TO_IRIDIUM_TLE, startDay = START_DAY, nEpochs = nEpochs, step_size = STEP_SIZE, nMaxNodes = MAX_DEBRIS)\n",
    "        res = mips_dynamic.TSP_dynamic(A, P, transfer_duration = transfer_dur, budget = BUDGET, SEC_TYPE = \"DT1\")\n",
    "        print(\"\\n\\n ---- Resulting total radar cross section: \" + str(res.objVal) + \" m^2 ----\\n\\n\")"
   ]
  },
  {
   "cell_type": "code",
   "execution_count": null,
   "metadata": {},
   "outputs": [],
   "source": []
  }
 ],
 "metadata": {
  "kernelspec": {
   "display_name": "Python 3",
   "language": "python",
   "name": "python3"
  },
  "language_info": {
   "codemirror_mode": {
    "name": "ipython",
    "version": 3
   },
   "file_extension": ".py",
   "mimetype": "text/x-python",
   "name": "python",
   "nbconvert_exporter": "python",
   "pygments_lexer": "ipython3",
   "version": "3.7.4"
  }
 },
 "nbformat": 4,
 "nbformat_minor": 2
}
